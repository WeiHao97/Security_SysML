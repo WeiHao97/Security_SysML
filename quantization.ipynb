{
 "cells": [
  {
   "cell_type": "markdown",
   "metadata": {
    "colab_type": "text",
    "id": "view-in-github"
   },
   "source": [
    "<a href=\"https://colab.research.google.com/github/WeiHao97/Security_SysML/blob/main/quantAwareTrain.ipynb\" target=\"_parent\"><img src=\"https://colab.research.google.com/assets/colab-badge.svg\" alt=\"Open In Colab\"/></a>"
   ]
  },
  {
   "cell_type": "code",
   "execution_count": 1,
   "metadata": {},
   "outputs": [],
   "source": [
    "from __future__ import print_function\n",
    "import argparse\n",
    "import torch\n",
    "import torch.nn as nn\n",
    "import torch.nn.functional as F\n",
    "import torch.optim as optim\n",
    "from torchvision import datasets, transforms"
   ]
  },
  {
   "cell_type": "code",
   "execution_count": 2,
   "metadata": {},
   "outputs": [],
   "source": [
    "from collections import namedtuple"
   ]
  },
  {
   "cell_type": "code",
   "execution_count": 3,
   "metadata": {},
   "outputs": [],
   "source": [
    "import os"
   ]
  },
  {
   "cell_type": "code",
   "execution_count": 4,
   "metadata": {},
   "outputs": [],
   "source": [
    "os.environ[\"CUDA_VISIBLE_DEVICES\"]=\"5\""
   ]
  },
  {
   "cell_type": "markdown",
   "metadata": {
    "id": "9QXsrr6Mp5e_"
   },
   "source": [
    "# MNIST Model"
   ]
  },
  {
   "cell_type": "code",
   "execution_count": 5,
   "metadata": {
    "id": "YBGOnz5NpiTw"
   },
   "outputs": [],
   "source": [
    "class Net(nn.Module):\n",
    "    def __init__(self, mnist=True):\n",
    "      \n",
    "        super(Net, self).__init__()\n",
    "        if mnist:\n",
    "            num_channels = 1\n",
    "        else:\n",
    "            num_channels = 3\n",
    "          \n",
    "        self.conv1 = nn.Conv2d(num_channels, 20, 5, 1)\n",
    "        self.conv2 = nn.Conv2d(20, 50, 5, 1)\n",
    "        if mnist:\n",
    "            self.fc1 = nn.Linear(4*4*50, 500)\n",
    "            self.flatten_shape = 4*4*50\n",
    "        else:\n",
    "            self.fc1 = nn.Linear(1250, 500)\n",
    "            self.flatten_shape = 1250\n",
    "\n",
    "        self.fc2 = nn.Linear(500, 10)\n",
    "        \n",
    "      \n",
    "    def forward(self, x, vis=False, axs=None):\n",
    "        X = 0\n",
    "        Y = 0\n",
    "\n",
    "        if vis:\n",
    "            axs[X,Y].set_xlabel('Entry into network, input distribution visualised below: ')\n",
    "            visualise(x, axs[X,Y])\n",
    "            \n",
    "            axs[X,Y+1].set_xlabel(\"Visualising weights of conv 1 layer: \")\n",
    "            visualise(self.conv1.weight.data, axs[X,Y+1])\n",
    "\n",
    "\n",
    "        x = F.relu(self.conv1(x))\n",
    "\n",
    "        if vis:\n",
    "            axs[X,Y+2].set_xlabel('Output after conv1 visualised below: ')\n",
    "            visualise(x,axs[X,Y+2])\n",
    "            \n",
    "            axs[X,Y+3].set_xlabel(\"Visualising weights of conv 2 layer: \")\n",
    "            visualise(self.conv2.weight.data, axs[X,Y+3])\n",
    "\n",
    "        x = F.max_pool2d(x, 2, 2)\n",
    "        x = F.relu(self.conv2(x))\n",
    "\n",
    "        if vis:\n",
    "            axs[X,Y+4].set_xlabel('Output after conv2 visualised below: ')\n",
    "            visualise(x,axs[X,Y+4])\n",
    "            \n",
    "            axs[X+1,Y].set_xlabel(\"Visualising weights of fc 1 layer: \")\n",
    "            visualise(self.fc1.weight.data, axs[X+1,Y])\n",
    "\n",
    "        x = F.max_pool2d(x, 2, 2)  \n",
    "        x = x.view(-1, self.flatten_shape)\n",
    "        x = F.relu(self.fc1(x))\n",
    "\n",
    "        if vis:\n",
    "            axs[X+1,Y+1].set_xlabel('Output after fc1 visualised below: ')\n",
    "            visualise(x,axs[X+1,Y+1])\n",
    "            \n",
    "            axs[X+1,Y+2].set_xlabel(\"Visualising weights of fc 2 layer: \")\n",
    "            visualise(self.fc2.weight.data, axs[X+1,Y+2])\n",
    "\n",
    "        x = self.fc2(x)\n",
    "\n",
    "        if vis:\n",
    "            axs[X+1,Y+3].set_xlabel('Output after fc2 visualised below: ')\n",
    "            visualise(x,axs[X+1,Y+3])\n",
    "\n",
    "        return F.log_softmax(x, dim=1)\n",
    "    "
   ]
  },
  {
   "cell_type": "markdown",
   "metadata": {
    "id": "1EWDw3bip8Ie"
   },
   "source": [
    "# Training "
   ]
  },
  {
   "cell_type": "code",
   "execution_count": 6,
   "metadata": {},
   "outputs": [],
   "source": [
    "def test(args, model, device, test_loader):\n",
    "    model.eval()\n",
    "    test_loss = 0\n",
    "    correct = 0\n",
    "    with torch.no_grad():\n",
    "        for data, target in test_loader:\n",
    "            data, target = data.to(device), target.to(device)\n",
    "            output = model(data)\n",
    "            test_loss += F.nll_loss(output, target, reduction='sum').item() # sum up batch loss\n",
    "            pred = output.argmax(dim=1, keepdim=True) # get the index of the max log-probability\n",
    "            correct += pred.eq(target.view_as(pred)).sum().item()\n",
    "\n",
    "    test_loss /= len(test_loader.dataset)\n",
    "\n",
    "    print('\\nTest set: Average loss: {:.4f}, Accuracy: {}/{} ({:.0f}%)\\n'.format(\n",
    "        test_loss, correct, len(test_loader.dataset),\n",
    "        100. * correct / len(test_loader.dataset)))"
   ]
  },
  {
   "cell_type": "code",
   "execution_count": 7,
   "metadata": {
    "colab": {
     "base_uri": "https://localhost:8080/"
    },
    "id": "ujzd_d1kp_sX",
    "outputId": "512474d0-dca3-4d8d-852d-48fbfc67737f"
   },
   "outputs": [],
   "source": [
    "def train(args, model, device, train_loader, optimizer, epoch):\n",
    "    model.train()\n",
    "    for batch_idx, (data, target) in enumerate(train_loader):\n",
    "        data, target = data.to(device), target.to(device)\n",
    "        optimizer.zero_grad()\n",
    "        output = model(data)\n",
    "        loss = F.nll_loss(output, target)\n",
    "        loss.backward()\n",
    "        optimizer.step()\n",
    "        \n",
    "   \n",
    "        if batch_idx % args[\"log_interval\"] == 0:\n",
    "            print('Train Epoch: {} [{}/{} ({:.0f}%)]\\tLoss: {:.6f}'.format(\n",
    "                epoch, batch_idx * len(data), len(train_loader.dataset),\n",
    "                100. * batch_idx / len(train_loader), loss.item()))"
   ]
  },
  {
   "cell_type": "code",
   "execution_count": 8,
   "metadata": {},
   "outputs": [],
   "source": [
    "def main(mnist=True):\n",
    " \n",
    "    batch_size = 64\n",
    "    test_batch_size = 64\n",
    "    epochs = 10\n",
    "    lr = 0.01\n",
    "    momentum = 0.5\n",
    "    seed = 1\n",
    "    log_interval = 500\n",
    "    save_model = False\n",
    "    no_cuda = False\n",
    "    \n",
    "    use_cuda = not no_cuda and torch.cuda.is_available()\n",
    "\n",
    "    torch.manual_seed(seed)\n",
    "\n",
    "    device = torch.device(\"cuda\" if use_cuda else \"cpu\")\n",
    "\n",
    "    kwargs = {'num_workers': 1, 'pin_memory': True} if use_cuda else {}\n",
    "\n",
    "    if mnist:\n",
    "        train_loader = torch.utils.data.DataLoader(\n",
    "          datasets.MNIST('../tensorflow_datasets', train=True, download=True,\n",
    "                        transform=transforms.Compose([\n",
    "                            transforms.ToTensor(),\n",
    "                            transforms.Normalize((0.1307,), (0.3081,))\n",
    "                        ])),\n",
    "          batch_size=batch_size, shuffle=True, **kwargs)\n",
    "        \n",
    "        test_loader = torch.utils.data.DataLoader(\n",
    "          datasets.MNIST('../tensorflow_datasets', train=False, transform=transforms.Compose([\n",
    "                            transforms.ToTensor(),\n",
    "                            transforms.Normalize((0.1307,), (0.3081,))\n",
    "                        ])),\n",
    "          batch_size=test_batch_size, shuffle=True, **kwargs)\n",
    "    else:\n",
    "        transform = transforms.Compose(\n",
    "          [transforms.ToTensor(),\n",
    "          transforms.Normalize((0.5, 0.5, 0.5), (0.5, 0.5, 0.5))])\n",
    "        \n",
    "        trainset = datasets.CIFAR10(root='./dataCifar', train=True,\n",
    "                                              download=True, transform=transform)\n",
    "        train_loader = torch.utils.data.DataLoader(trainset, batch_size=batch_size,\n",
    "                                                shuffle=True, num_workers=2)\n",
    "        \n",
    "        testset = datasets.CIFAR10(root='./dataCifar', train=False,\n",
    "                                            download=True, transform=transform)\n",
    "        \n",
    "        test_loader = torch.utils.data.DataLoader(testset, batch_size=test_batch_size,\n",
    "                                              shuffle=False, num_workers=2)\n",
    "          \n",
    "  \n",
    "    model = Net(mnist=mnist).to(device)\n",
    "    optimizer = optim.SGD(model.parameters(), lr=lr, momentum=momentum)\n",
    "    args = {}\n",
    "    args[\"log_interval\"] = log_interval\n",
    "    for epoch in range(1, epochs + 1):\n",
    "        train(args, model, device, train_loader, optimizer, epoch)\n",
    "        test(args, model, device, test_loader)\n",
    "\n",
    "    if (save_model):\n",
    "        torch.save(model.state_dict(),\"mnist_cnn.pt\")\n",
    "    \n",
    "    return model"
   ]
  },
  {
   "cell_type": "code",
   "execution_count": 9,
   "metadata": {},
   "outputs": [
    {
     "name": "stderr",
     "output_type": "stream",
     "text": [
      "/home/wei.hao/anaconda3/lib/python3.8/site-packages/torchvision/datasets/mnist.py:498: UserWarning: The given NumPy array is not writeable, and PyTorch does not support non-writeable tensors. This means you can write to the underlying (supposedly non-writeable) NumPy array using the tensor. You may want to copy the array to protect its data or make it writeable before converting it to a tensor. This type of warning will be suppressed for the rest of this program. (Triggered internally at  /pytorch/torch/csrc/utils/tensor_numpy.cpp:180.)\n",
      "  return torch.from_numpy(parsed.astype(m[2], copy=False)).view(*s)\n",
      "/home/wei.hao/anaconda3/lib/python3.8/site-packages/torch/nn/functional.py:718: UserWarning: Named tensors and all their associated APIs are an experimental feature and subject to change. Please do not use them for anything important until they are released as stable. (Triggered internally at  /pytorch/c10/core/TensorImpl.h:1156.)\n",
      "  return torch.max_pool2d(input, kernel_size, stride, padding, dilation, ceil_mode)\n"
     ]
    },
    {
     "name": "stdout",
     "output_type": "stream",
     "text": [
      "Train Epoch: 1 [0/60000 (0%)]\tLoss: 2.299172\n",
      "Train Epoch: 1 [32000/60000 (53%)]\tLoss: 0.156409\n",
      "\n",
      "Test set: Average loss: 0.1056, Accuracy: 9680/10000 (97%)\n",
      "\n",
      "Train Epoch: 2 [0/60000 (0%)]\tLoss: 0.209931\n",
      "Train Epoch: 2 [32000/60000 (53%)]\tLoss: 0.159505\n",
      "\n",
      "Test set: Average loss: 0.0682, Accuracy: 9779/10000 (98%)\n",
      "\n",
      "Train Epoch: 3 [0/60000 (0%)]\tLoss: 0.027405\n",
      "Train Epoch: 3 [32000/60000 (53%)]\tLoss: 0.068124\n",
      "\n",
      "Test set: Average loss: 0.0477, Accuracy: 9843/10000 (98%)\n",
      "\n",
      "Train Epoch: 4 [0/60000 (0%)]\tLoss: 0.020825\n",
      "Train Epoch: 4 [32000/60000 (53%)]\tLoss: 0.026675\n",
      "\n",
      "Test set: Average loss: 0.0411, Accuracy: 9860/10000 (99%)\n",
      "\n",
      "Train Epoch: 5 [0/60000 (0%)]\tLoss: 0.096930\n",
      "Train Epoch: 5 [32000/60000 (53%)]\tLoss: 0.036126\n",
      "\n",
      "Test set: Average loss: 0.0365, Accuracy: 9879/10000 (99%)\n",
      "\n",
      "Train Epoch: 6 [0/60000 (0%)]\tLoss: 0.077609\n",
      "Train Epoch: 6 [32000/60000 (53%)]\tLoss: 0.014028\n",
      "\n",
      "Test set: Average loss: 0.0387, Accuracy: 9878/10000 (99%)\n",
      "\n",
      "Train Epoch: 7 [0/60000 (0%)]\tLoss: 0.011292\n",
      "Train Epoch: 7 [32000/60000 (53%)]\tLoss: 0.021675\n",
      "\n",
      "Test set: Average loss: 0.0344, Accuracy: 9887/10000 (99%)\n",
      "\n",
      "Train Epoch: 8 [0/60000 (0%)]\tLoss: 0.036423\n",
      "Train Epoch: 8 [32000/60000 (53%)]\tLoss: 0.003083\n",
      "\n",
      "Test set: Average loss: 0.0438, Accuracy: 9846/10000 (98%)\n",
      "\n",
      "Train Epoch: 9 [0/60000 (0%)]\tLoss: 0.007432\n",
      "Train Epoch: 9 [32000/60000 (53%)]\tLoss: 0.024258\n",
      "\n",
      "Test set: Average loss: 0.0294, Accuracy: 9905/10000 (99%)\n",
      "\n",
      "Train Epoch: 10 [0/60000 (0%)]\tLoss: 0.007268\n",
      "Train Epoch: 10 [32000/60000 (53%)]\tLoss: 0.047067\n",
      "\n",
      "Test set: Average loss: 0.0328, Accuracy: 9890/10000 (99%)\n",
      "\n"
     ]
    }
   ],
   "source": [
    "model = main()"
   ]
  },
  {
   "cell_type": "markdown",
   "metadata": {
    "id": "vDkkrT2prCU9"
   },
   "source": [
    "# Quantisation of Network"
   ]
  },
  {
   "cell_type": "markdown",
   "metadata": {
    "id": "vFM8UV9CreIX"
   },
   "source": [
    "## Post-training Quantisation Functions"
   ]
  },
  {
   "cell_type": "markdown",
   "metadata": {},
   "source": [
    "- x_Float = scale*(x_Quant -zero_point)\n",
    "- x_Quant = (x_Float/scale) + zero_point\n",
    "- scale = (max_val — min_val) / (qmax — qmin)"
   ]
  },
  {
   "cell_type": "code",
   "execution_count": 10,
   "metadata": {},
   "outputs": [],
   "source": [
    "QTensor = namedtuple('QTensor', ['tensor', 'scale', 'zero_point'])"
   ]
  },
  {
   "cell_type": "code",
   "execution_count": 11,
   "metadata": {},
   "outputs": [],
   "source": [
    "import math"
   ]
  },
  {
   "cell_type": "code",
   "execution_count": 131,
   "metadata": {},
   "outputs": [],
   "source": [
    "def calcScaleZeroPoint(min_val, max_val,num_bits):\n",
    "    # Calc Scale and zero point of next\n",
    "    qmin = 0.\n",
    "    qmax = 2.**num_bits - 1.\n",
    "    \n",
    "    scale_next = (max_val - min_val) / (qmax - qmin)\n",
    "    initial_zero_point = qmin - min_val / scale_next\n",
    "  \n",
    "    if initial_zero_point < qmin:\n",
    "        zero_point_next = qmin\n",
    "    elif initial_zero_point > qmax:\n",
    "        zero_point_next = qmax\n",
    "    else:\n",
    "        zero_point_next = initial_zero_point\n",
    "        #print(zero_point_next)\n",
    "        \n",
    "    zero_point_next = int(zero_point_next)\n",
    "    \n",
    "    return scale_next, zero_point_next"
   ]
  },
  {
   "cell_type": "code",
   "execution_count": 132,
   "metadata": {},
   "outputs": [],
   "source": [
    "def quantize_tensor(x, num_bits, min_val=None, max_val=None):\n",
    "    \n",
    "    #x = torch.nan_to_num(x)\n",
    "    if not min_val and not max_val:\n",
    "        min_val, max_val = x.min(), x.max()\n",
    "    else:\n",
    "        x.clamp_(min_val, max_val)\n",
    "\n",
    "    qmin = 0.\n",
    "    qmax = 2.**num_bits - 1.\n",
    "\n",
    "    scale, zero_point = calcScaleZeroPoint(min_val, max_val, num_bits)\n",
    "    x = zero_point + x / scale\n",
    "    x.clamp_(qmin, qmax).round_()\n",
    "    \n",
    "    return QTensor(tensor=x, scale=scale, zero_point=zero_point)"
   ]
  },
  {
   "cell_type": "code",
   "execution_count": 133,
   "metadata": {},
   "outputs": [],
   "source": [
    "def dequantize_tensor(q_x):\n",
    "    return q_x.scale * (q_x.tensor.float() - q_x.zero_point)"
   ]
  },
  {
   "cell_type": "code",
   "execution_count": 134,
   "metadata": {},
   "outputs": [],
   "source": [
    "def calcScaleZeroPointSym(min_val, max_val,num_bits):\n",
    "  \n",
    "    # Calc Scale\n",
    "    max_val = max(abs(min_val), abs(max_val))\n",
    "    qmax = 2.**(num_bits-1) - 1.\n",
    "    \n",
    "    scale = max_val / qmax\n",
    "    \n",
    "    return scale, 0"
   ]
  },
  {
   "cell_type": "code",
   "execution_count": 135,
   "metadata": {},
   "outputs": [],
   "source": [
    "def quantize_tensor_sym(x, num_bits, min_val=None, max_val=None):\n",
    "    #x = torch.nan_to_num(x)\n",
    "    if not min_val and not max_val:\n",
    "        min_val, max_val = x.min(), x.max()\n",
    "    else:\n",
    "        x.clamp_(min_val, max_val)\n",
    "        max_val = max(abs(min_val), abs(max_val))\n",
    "    \n",
    "    qmax = 2.**(num_bits-1) - 1.\n",
    "\n",
    "    scale = max_val / qmax   \n",
    "\n",
    "    x = x/scale\n",
    "\n",
    "    x.clamp_(-qmax, qmax).round_()\n",
    "    return QTensor(tensor=x, scale=scale, zero_point=0)"
   ]
  },
  {
   "cell_type": "code",
   "execution_count": 136,
   "metadata": {},
   "outputs": [],
   "source": [
    "def dequantize_tensor_sym(q_x):\n",
    "    return q_x.scale * (q_x.tensor.float())"
   ]
  },
  {
   "cell_type": "markdown",
   "metadata": {
    "id": "xXkTAJ9ws1Y6"
   },
   "source": [
    "## Rework Forward pass of Linear and Conv Layers to support Quantisation"
   ]
  },
  {
   "cell_type": "code",
   "execution_count": 137,
   "metadata": {},
   "outputs": [],
   "source": [
    "def quantizeLayer(x, layer, stat, scale_x, zp_x, vis=False, axs=None, X=None, Y=None, sym=False, num_bits=8):\n",
    "    # for both conv and linear layers\n",
    "    \n",
    "    # cache old values\n",
    "    W = layer.weight.data\n",
    "    B = layer.bias.data\n",
    "    \n",
    "    # WEIGHTS SIMULATED QUANTISED\n",
    "    \n",
    "    # quantise weights, activations are already quantised\n",
    "    if sym:\n",
    "        w = quantize_tensor_sym(layer.weight.data,num_bits=num_bits)\n",
    "        b = quantize_tensor_sym(layer.bias.data,num_bits=num_bits)\n",
    "    else:\n",
    "        w = quantize_tensor(layer.weight.data, num_bits=num_bits)\n",
    "        b = quantize_tensor(layer.bias.data, num_bits=num_bits)\n",
    "        \n",
    "    layer.weight.data = w.tensor.float()\n",
    "    layer.bias.data = b.tensor.float()\n",
    "    \n",
    "    ## END WEIGHTS QUANTISED SIMULATION\n",
    "    \n",
    "    if vis:\n",
    "        axs[X,Y].set_xlabel(\"Visualising weights of layer: \")\n",
    "        visualise(layer.weight.data, axs[X,Y])\n",
    "        \n",
    "    # QUANTISED OP, USES SCALE AND ZERO POINT TO DO LAYER FORWARD PASS. (How does backprop change here ?)\n",
    "    # This is Quantisation Arithmetic\n",
    "    \n",
    "    scale_w = w.scale\n",
    "    zp_w = w.zero_point\n",
    "    scale_b = b.scale\n",
    "    zp_b = b.zero_point\n",
    "    \n",
    "    if sym:\n",
    "        scale_next, zero_point_next = calcScaleZeroPointSym(min_val=stat['min'], max_val=stat['max'], num_bits=num_bits)\n",
    "    else:\n",
    "        scale_next, zero_point_next = calcScaleZeroPoint(min_val=stat['min'], max_val=stat['max'], num_bits=num_bits)\n",
    "        \n",
    "    # Preparing input by saturating range to num_bits range.\n",
    "    if sym:\n",
    "        x_ = x.float()\n",
    "        layer.weight.data = ((scale_x * scale_w) / scale_next)*(layer.weight.data)\n",
    "        layer.bias.data = (scale_b/scale_next)*(layer.bias.data)\n",
    "    else:\n",
    "        x_ = x.float() - zp_x\n",
    "        layer.weight.data = ((scale_x * scale_w) / scale_next)*(layer.weight.data - zp_w)\n",
    "        layer.bias.data = (scale_b/scale_next)*(layer.bias.data + zp_b)\n",
    "\n",
    "    # All (Fake) int computation\n",
    "    if sym:  \n",
    "        x = (layer(x_)) \n",
    "        qmin = -2.**(num_bits -1)\n",
    "        qmax = 2.**(num_bits -1) - 1\n",
    "    else:\n",
    "        x = (layer(x_)) + zero_point_next\n",
    "        qmin = 0\n",
    "        qmax = 2.**(num_bits) - 1\n",
    "        \n",
    "    # cast to int\n",
    "    x.clamp_(qmin, qmax).round_()\n",
    "    \n",
    "    # Perform relu too\n",
    "    x = F.leaky_relu(x) #?\n",
    "    #x = F.relu(x)\n",
    "    \n",
    "    # Reset weights for next forward pass\n",
    "    layer.weight.data = W\n",
    "    layer.bias.data = B\n",
    "    \n",
    "    return x, scale_next, zero_point_next"
   ]
  },
  {
   "cell_type": "markdown",
   "metadata": {
    "id": "OgkWg605tE1y"
   },
   "source": [
    "## Get Stats for Quantising Activations of Network.\n",
    "\n",
    "This is done by running the network with around 1000 examples and getting the average min and max activation values before and after each layer."
   ]
  },
  {
   "cell_type": "code",
   "execution_count": 138,
   "metadata": {
    "id": "GecOkNLhtVh9"
   },
   "outputs": [],
   "source": [
    "# Get Min and max of x tensor, and stores it\n",
    "def updateStats(x, stats, key):\n",
    "    max_val, _ = torch.max(x, dim=1)\n",
    "    min_val, _ = torch.min(x, dim=1)\n",
    "    \n",
    "    # add ema calculation\n",
    "    \n",
    "    if key not in stats:\n",
    "        stats[key] = {\"max\": torch.max(max_val).item(), \"min\": torch.min(min_val).item(), \"total\": 1}\n",
    "        \n",
    "    else:\n",
    "        stats[key]['max'] = max(stats[key]['max'],torch.max(max_val).item())\n",
    "        stats[key]['min'] = min(stats[key]['min'],torch.min(max_val).item())\n",
    "        stats[key]['total'] += 1\n",
    "        \n",
    "    weighting = 2.0 / (stats[key]['total']) + 1\n",
    "    \n",
    "    if 'ema_min' in stats[key]:\n",
    "        stats[key]['ema_min'] = weighting*(min_val.mean().item()) + (1- weighting) * stats[key]['ema_min']\n",
    "    else:\n",
    "        stats[key]['ema_min'] = weighting*(min_val.mean().item())\n",
    "        \n",
    "    if 'ema_max' in stats[key]:\n",
    "        stats[key]['ema_max'] = weighting*(max_val.mean().item()) + (1- weighting) * stats[key]['ema_max']\n",
    "    else:\n",
    "        stats[key]['ema_max'] = weighting*(max_val.mean().item())\n",
    "    \n",
    "    \n",
    "    return stats"
   ]
  },
  {
   "cell_type": "code",
   "execution_count": 139,
   "metadata": {},
   "outputs": [],
   "source": [
    "# Reworked Forward Pass to access activation Stats through updateStats function\n",
    "def gatherActivationStats(model, x, stats):\n",
    "    \n",
    "    stats = updateStats(x.clone().view(x.shape[0], -1), stats, 'conv1')\n",
    "    \n",
    "    x = F.relu(model.conv1(x))\n",
    "    \n",
    "    x = F.max_pool2d(x, 2, 2)\n",
    "    \n",
    "    stats = updateStats(x.clone().view(x.shape[0], -1), stats, 'conv2')\n",
    "    \n",
    "    x = F.relu(model.conv2(x))\n",
    "    \n",
    "    x = F.max_pool2d(x, 2, 2)\n",
    "    \n",
    "    x = x.view(-1, 4*4*50)\n",
    "    \n",
    "    stats = updateStats(x, stats, 'fc1')\n",
    "    \n",
    "    x = F.relu(model.fc1(x))\n",
    "    \n",
    "    stats = updateStats(x, stats, 'fc2')\n",
    "    \n",
    "    x = model.fc2(x)\n",
    "    \n",
    "    stats = updateStats(x, stats, 'out')\n",
    "\n",
    "    return stats"
   ]
  },
  {
   "cell_type": "code",
   "execution_count": 140,
   "metadata": {},
   "outputs": [],
   "source": [
    "# Entry function to get stats of all functions.\n",
    "def gatherStats(model, test_loader):\n",
    "    device = 'cuda'    \n",
    "    model.eval()\n",
    "    test_loss = 0\n",
    "    correct = 0\n",
    "    stats = {}\n",
    "    with torch.no_grad():\n",
    "        for data, target in test_loader:\n",
    "            data, target = data.to(device), target.to(device)\n",
    "            stats = gatherActivationStats(model, data, stats)\n",
    "    \n",
    "    final_stats = {}\n",
    "    for key, value in stats.items():\n",
    "        final_stats[key] = { \"max\" : value[\"max\"], \"min\" : value[\"min\"], \"ema_min\": value[\"ema_min\"], \"ema_max\": value[\"ema_max\"] }\n",
    "    return final_stats"
   ]
  },
  {
   "cell_type": "markdown",
   "metadata": {
    "id": "OBt0WDzyujnk"
   },
   "source": [
    "## Forward Pass for Quantised Inference"
   ]
  },
  {
   "cell_type": "code",
   "execution_count": 141,
   "metadata": {
    "id": "f6duGNF_uoZB"
   },
   "outputs": [],
   "source": [
    "def quantForward(model, x, stats, vis=False, axs=None, sym=False, num_bits=8):\n",
    "    X = 0\n",
    "    Y = 0\n",
    "    # Quantise before inputting into incoming layers\n",
    "    if sym:\n",
    "        x = quantize_tensor_sym(x, min_val=stats['conv1']['min'], max_val=stats['conv1']['max'], num_bits=num_bits)\n",
    "    else:\n",
    "        x = quantize_tensor(x, min_val=stats['conv1']['min'], max_val=stats['conv1']['max'], num_bits=num_bits)\n",
    "\n",
    "    if vis:\n",
    "        axs[X,Y].set_xlabel('Entry into network, input distribution visualised below: ')\n",
    "        visualise(x.tensor, axs[X,Y])\n",
    "        \n",
    "    x, scale_next, zero_point_next = quantizeLayer(x.tensor, model.conv1, stats['conv2'], x.scale, x.zero_point, vis, axs, X=X, Y=Y+1, sym=sym, num_bits=num_bits)\n",
    "\n",
    "    x = F.max_pool2d(x, 2, 2)\n",
    "  \n",
    "    if vis:\n",
    "        axs[X,Y+2].set_xlabel('Output after conv1 visualised below: ')\n",
    "        visualise(x,axs[X,Y+2])\n",
    "\n",
    "    x, scale_next, zero_point_next = quantizeLayer(x, model.conv2, stats['fc1'], scale_next, zero_point_next, vis, axs, X=X, Y=Y+3, sym=sym, num_bits=num_bits)\n",
    "\n",
    "    x = F.max_pool2d(x, 2, 2)\n",
    "\n",
    "    if vis:\n",
    "        axs[X,Y+4].set_xlabel('Output after conv2 visualised below: ')\n",
    "        visualise(x,axs[X,Y+4])\n",
    "\n",
    "    x = x.view(-1, 4*4*50)\n",
    "\n",
    "    x, scale_next, zero_point_next = quantizeLayer(x, model.fc1, stats['fc2'], scale_next, zero_point_next, vis, axs, X=X+1, Y=0, sym=sym, num_bits=num_bits)\n",
    "\n",
    "    if vis:\n",
    "        axs[X+1,Y+1].set_xlabel('Output after fc1 visualised below: ')\n",
    "        visualise(x,axs[X+1,Y+1])\n",
    "  \n",
    "    x, scale_next, zero_point_next = quantizeLayer(x, model.fc2, stats['out'], scale_next, zero_point_next, vis, axs, X=X+1, Y=Y+2, sym=sym, num_bits=num_bits)\n",
    "    \n",
    "    if vis:\n",
    "        axs[X+1,Y+3].set_xlabel('Output after fc2 visualised below: ')\n",
    "        visualise(x,axs[X+1,Y+3])\n",
    "        \n",
    "    # Back to dequant for final layer\n",
    "    if sym:\n",
    "        x = dequantize_tensor_sym(QTensor(tensor=x, scale=scale_next, zero_point=zero_point_next))\n",
    "    else:\n",
    "        x = dequantize_tensor(QTensor(tensor=x, scale=scale_next, zero_point=zero_point_next))\n",
    "\n",
    "    if vis:\n",
    "        axs[X+1,Y+4].set_xlabel('Output after fc2 but dequantised visualised below: ')\n",
    "        visualise(x,axs[X+1,Y+4])\n",
    "\n",
    "    return F.log_softmax(x, dim=1)"
   ]
  },
  {
   "cell_type": "markdown",
   "metadata": {
    "id": "xC96eesMqYo-"
   },
   "source": [
    "# Testing Function for Quantisation"
   ]
  },
  {
   "cell_type": "code",
   "execution_count": 142,
   "metadata": {
    "id": "X6jKRKSBt0he"
   },
   "outputs": [],
   "source": [
    "def testQuant(model, test_loader, quant=False, stats=None, sym=False, num_bits=8):\n",
    "    device = 'cuda'\n",
    "    \n",
    "    model.eval()\n",
    "    test_loss = 0\n",
    "    correct = 0\n",
    "    with torch.no_grad():\n",
    "        for data, target in test_loader:\n",
    "            data, target = data.to(device), target.to(device)\n",
    "            if quant:\n",
    "                output = quantForward(model, data, stats, sym=sym, num_bits=num_bits)\n",
    "            else:\n",
    "                output = model(data)\n",
    "            test_loss += F.nll_loss(output, target, reduction='sum').item() # sum up batch loss\n",
    "            pred = output.argmax(dim=1, keepdim=True) # get the index of the max log-probability\n",
    "            correct += pred.eq(target.view_as(pred)).sum().item()\n",
    "\n",
    "    test_loss /= len(test_loader.dataset)\n",
    "\n",
    "    print('\\nTest set: Average loss: {:.4f}, Accuracy: {}/{} ({:.0f}%)\\n'.format(\n",
    "        test_loss, correct, len(test_loader.dataset),\n",
    "        100. * correct / len(test_loader.dataset)))"
   ]
  },
  {
   "cell_type": "markdown",
   "metadata": {
    "id": "bs97rNEXt_my"
   },
   "source": [
    "# Get Accuracy of Non Quantised Model"
   ]
  },
  {
   "cell_type": "code",
   "execution_count": 106,
   "metadata": {
    "id": "0YCtbfk9qbGI"
   },
   "outputs": [],
   "source": [
    "import copy\n",
    "q_model = copy.deepcopy(model)"
   ]
  },
  {
   "cell_type": "code",
   "execution_count": 25,
   "metadata": {
    "id": "5j42Q8PKt3lj"
   },
   "outputs": [],
   "source": [
    "kwargs = {'num_workers': 1, 'pin_memory': True}\n",
    "test_loader = torch.utils.data.DataLoader(\n",
    "    datasets.MNIST('../tensorflow_datasets', train=False, transform=transforms.Compose([\n",
    "                       transforms.ToTensor(),\n",
    "                       transforms.Normalize((0.1307,), (0.3081,))\n",
    "                   ])),\n",
    "    batch_size=64, shuffle=True, **kwargs)"
   ]
  },
  {
   "cell_type": "code",
   "execution_count": 26,
   "metadata": {
    "colab": {
     "base_uri": "https://localhost:8080/",
     "height": 68
    },
    "id": "QeYlzGG0t4Yp",
    "outputId": "d5b2b90a-60f2-4a2a-ae85-91e03b75a909"
   },
   "outputs": [
    {
     "name": "stdout",
     "output_type": "stream",
     "text": [
      "\n",
      "Test set: Average loss: 0.0328, Accuracy: 9890/10000 (99%)\n",
      "\n"
     ]
    }
   ],
   "source": [
    "testQuant(q_model, test_loader, quant=False)"
   ]
  },
  {
   "cell_type": "markdown",
   "metadata": {
    "id": "1JaeISHeuHCb"
   },
   "source": [
    "# Gather Stats of Activations"
   ]
  },
  {
   "cell_type": "code",
   "execution_count": 27,
   "metadata": {
    "colab": {
     "base_uri": "https://localhost:8080/",
     "height": 54
    },
    "id": "xhiL7OwwuLS6",
    "outputId": "51f35d82-e500-4985-92c6-4c001f53dce6"
   },
   "outputs": [
    {
     "name": "stdout",
     "output_type": "stream",
     "text": [
      "{'conv1': {'max': 2.821486711502075, 'min': -0.4242129623889923, 'ema_min': -0.4242129623889923, 'ema_max': 2.819079776573962}, 'conv2': {'max': 10.803265571594238, 'min': 0.0, 'ema_min': 0.0, 'ema_max': 8.87393726406243}, 'fc1': {'max': 20.8812313079834, 'min': 0.0, 'ema_min': 0.0, 'ema_max': 16.117833238109025}, 'fc2': {'max': 16.6160888671875, 'min': 0.0, 'ema_min': 0.0, 'ema_max': 8.84634786268192}, 'out': {'max': 34.17060852050781, 'min': -19.3685302734375, 'ema_min': -10.063359297819348, 'ema_max': 17.0286625233738}}\n"
     ]
    }
   ],
   "source": [
    "stats = gatherStats(q_model, test_loader)\n",
    "print(stats)"
   ]
  },
  {
   "cell_type": "markdown",
   "metadata": {
    "id": "eMeng9S4uSOX"
   },
   "source": [
    "# Test Quantised Inference Of Model"
   ]
  },
  {
   "cell_type": "code",
   "execution_count": 107,
   "metadata": {
    "colab": {
     "base_uri": "https://localhost:8080/",
     "height": 68
    },
    "id": "INQggUUQuXyq",
    "outputId": "8f0c1919-9e34-4918-bdac-023a6a39fd27"
   },
   "outputs": [
    {
     "name": "stdout",
     "output_type": "stream",
     "text": [
      "\n",
      "Test set: Average loss: 0.0383, Accuracy: 9877/10000 (99%)\n",
      "\n"
     ]
    }
   ],
   "source": [
    "testQuant(q_model, test_loader, quant=True, stats=stats, sym=False, num_bits=8)"
   ]
  },
  {
   "cell_type": "code",
   "execution_count": 108,
   "metadata": {
    "colab": {
     "base_uri": "https://localhost:8080/",
     "height": 68
    },
    "id": "1_-hb-WqIgXH",
    "outputId": "aa81b890-8df1-470a-9c91-2a78b72b9d4b"
   },
   "outputs": [
    {
     "name": "stdout",
     "output_type": "stream",
     "text": [
      "\n",
      "Test set: Average loss: 0.0524, Accuracy: 9804/10000 (98%)\n",
      "\n"
     ]
    }
   ],
   "source": [
    "testQuant(q_model, test_loader, quant=True, stats=stats, sym=False, num_bits=4)"
   ]
  },
  {
   "cell_type": "code",
   "execution_count": 109,
   "metadata": {
    "colab": {
     "base_uri": "https://localhost:8080/",
     "height": 68
    },
    "id": "QTUB1sYikm4h",
    "outputId": "3d7a7f13-4446-4221-c56a-5a8d7f6d8abc"
   },
   "outputs": [
    {
     "name": "stdout",
     "output_type": "stream",
     "text": [
      "\n",
      "Test set: Average loss: 1.3619, Accuracy: 7527/10000 (75%)\n",
      "\n"
     ]
    }
   ],
   "source": [
    "testQuant(q_model, test_loader, quant=True, stats=stats, sym=False, num_bits=2)"
   ]
  },
  {
   "cell_type": "markdown",
   "metadata": {
    "id": "miUvOJ5YuEHC"
   },
   "source": [
    "# Visualise Weights and Activations"
   ]
  },
  {
   "cell_type": "code",
   "execution_count": 31,
   "metadata": {
    "id": "QxxUxYA2BU3x"
   },
   "outputs": [],
   "source": [
    "def visualise(x, axs):\n",
    "    x = x.view(-1).cpu().numpy()\n",
    "    axs.hist(x) "
   ]
  },
  {
   "cell_type": "markdown",
   "metadata": {
    "id": "mszPTrYOluym"
   },
   "source": [
    "## Non Quantised Network weights and activations"
   ]
  },
  {
   "cell_type": "code",
   "execution_count": 32,
   "metadata": {
    "colab": {
     "base_uri": "https://localhost:8080/"
    },
    "id": "iylGn6_aT5r9",
    "outputId": "9136d269-70d0-4322-8927-d07a6b100f28"
   },
   "outputs": [
    {
     "data": {
      "image/png": "[encoded data removed]",
      "text/plain": [
       "<Figure size 1440x720 with 10 Axes>"
      ]
     },
     "metadata": {
      "needs_background": "light"
     },
     "output_type": "display_data"
    }
   ],
   "source": [
    "import matplotlib.pyplot as plt\n",
    "# run through one example and plot weights and activations quantised in real time\n",
    "device = 'cuda'\n",
    "fig, axs = plt.subplots(2, 5, figsize=(20, 10))\n",
    "with torch.no_grad():\n",
    "    for data, target in test_loader:\n",
    "        data, target = data.to(device), target.to(device)\n",
    "        output = model(data, vis=True, axs=axs)\n",
    "        break\n",
    "plt.show()"
   ]
  },
  {
   "cell_type": "markdown",
   "metadata": {
    "id": "HgBC03xtTCe4"
   },
   "source": [
    "## Visualise Quantised Model"
   ]
  },
  {
   "cell_type": "code",
   "execution_count": 33,
   "metadata": {},
   "outputs": [
    {
     "data": {
      "image/png": "[encoded data removed]",
      "text/plain": [
       "<Figure size 1440x720 with 10 Axes>"
      ]
     },
     "metadata": {
      "needs_background": "light"
     },
     "output_type": "display_data"
    }
   ],
   "source": [
    "import matplotlib.pyplot as plt\n",
    "# run through one example and plot weights and activations quantised in real time\n",
    "device = 'cuda'\n",
    "fig, axs = plt.subplots(2, 5, figsize=(20, 10))\n",
    "with torch.no_grad():\n",
    "    for data, target in test_loader:\n",
    "        data, target = data.to(device), target.to(device)\n",
    "        output = quantForward(q_model, data, stats, vis=True, axs=axs, sym=False, num_bits=8)\n",
    "        break\n",
    "plt.show()"
   ]
  },
  {
   "cell_type": "code",
   "execution_count": 34,
   "metadata": {
    "colab": {
     "base_uri": "https://localhost:8080/",
     "height": 629
    },
    "id": "q-_lnplBDwFq",
    "outputId": "103715e9-c4ca-44ff-eec9-8ba761f9bee6"
   },
   "outputs": [
    {
     "data": {
      "image/png": "[encoded data removed]",
      "text/plain": [
       "<Figure size 1440x720 with 10 Axes>"
      ]
     },
     "metadata": {
      "needs_background": "light"
     },
     "output_type": "display_data"
    }
   ],
   "source": [
    "import matplotlib.pyplot as plt\n",
    "# run through one example and plot weights and activations quantised in real time\n",
    "device = 'cuda'\n",
    "fig, axs = plt.subplots(2, 5, figsize=(20, 10))\n",
    "with torch.no_grad():\n",
    "    for data, target in test_loader:\n",
    "        data, target = data.to(device), target.to(device)\n",
    "        output = quantForward(q_model, data, stats, vis=True, axs=axs, sym=False, num_bits=4)\n",
    "        break\n",
    "plt.show()"
   ]
  },
  {
   "cell_type": "code",
   "execution_count": 35,
   "metadata": {},
   "outputs": [
    {
     "data": {
      "image/png": "[encoded data removed]",
      "text/plain": [
       "<Figure size 1440x720 with 10 Axes>"
      ]
     },
     "metadata": {
      "needs_background": "light"
     },
     "output_type": "display_data"
    }
   ],
   "source": [
    "import matplotlib.pyplot as plt\n",
    "# run through one example and plot weights and activations quantised in real time\n",
    "device = 'cuda'\n",
    "fig, axs = plt.subplots(2, 5, figsize=(20, 10))\n",
    "with torch.no_grad():\n",
    "    for data, target in test_loader:\n",
    "        data, target = data.to(device), target.to(device)\n",
    "        output = quantForward(q_model, data, stats, vis=True, axs=axs, sym=False, num_bits=2)\n",
    "        break\n",
    "plt.show()"
   ]
  },
  {
   "cell_type": "code",
   "execution_count": 36,
   "metadata": {
    "colab": {
     "base_uri": "https://localhost:8080/",
     "height": 629
    },
    "id": "BAapb578IoY4",
    "outputId": "fc84a76c-6c1e-4e33-8816-363dd3d4352a"
   },
   "outputs": [
    {
     "data": {
      "image/png": "[encoded data removed]",
      "text/plain": [
       "<Figure size 1440x720 with 10 Axes>"
      ]
     },
     "metadata": {
      "needs_background": "light"
     },
     "output_type": "display_data"
    }
   ],
   "source": [
    "import matplotlib.pyplot as plt\n",
    "# run through one example and plot weights and activations quantised in real time\n",
    "device = 'cuda'\n",
    "fig, axs = plt.subplots(2, 5, figsize=(20, 10))\n",
    "with torch.no_grad():\n",
    "    for data, target in test_loader:\n",
    "        data, target = data.to(device), target.to(device)\n",
    "        output = quantForward(q_model, data, stats, vis=True, axs=axs, sym=True)\n",
    "        break\n",
    "plt.show()"
   ]
  },
  {
   "cell_type": "markdown",
   "metadata": {
    "id": "voLb1LPkvkz_"
   },
   "source": [
    "## TA DA !!\n",
    "\n",
    "We have quantised our net to mostly 8 bit arithmetic with almost zero accuracy loss ! Pretty good day's work, I'll say :D"
   ]
  },
  {
   "cell_type": "code",
   "execution_count": 37,
   "metadata": {},
   "outputs": [
    {
     "data": {
      "text/plain": [
       "{'conv1': {'max': 2.821486711502075,\n",
       "  'min': -0.4242129623889923,\n",
       "  'ema_min': -0.4242129623889923,\n",
       "  'ema_max': 2.819079776573962},\n",
       " 'conv2': {'max': 10.803265571594238,\n",
       "  'min': 0.0,\n",
       "  'ema_min': 0.0,\n",
       "  'ema_max': 8.87393726406243},\n",
       " 'fc1': {'max': 20.8812313079834,\n",
       "  'min': 0.0,\n",
       "  'ema_min': 0.0,\n",
       "  'ema_max': 16.117833238109025},\n",
       " 'fc2': {'max': 16.6160888671875,\n",
       "  'min': 0.0,\n",
       "  'ema_min': 0.0,\n",
       "  'ema_max': 8.84634786268192},\n",
       " 'out': {'max': 34.17060852050781,\n",
       "  'min': -19.3685302734375,\n",
       "  'ema_min': -10.063359297819348,\n",
       "  'ema_max': 17.0286625233738}}"
      ]
     },
     "execution_count": 37,
     "metadata": {},
     "output_type": "execute_result"
    }
   ],
   "source": [
    "stats"
   ]
  },
  {
   "cell_type": "raw",
   "metadata": {},
   "source": [
    "def inPlaceQuantize(layer, stats, scale_x, zp_x, sym=False, num_bits = 8):\n",
    "    # for both conv and linear layers\n",
    "    \n",
    "    # WEIGHTS SIMULATED QUANTISED\n",
    "    \n",
    "    # quantise weights, activations are already quantised\n",
    "    if sym:\n",
    "        w = quantize_tensor_sym(layer.weight.data,num_bits=num_bits)\n",
    "        b = quantize_tensor_sym(layer.bias.data,num_bits=num_bits)\n",
    "    else:\n",
    "        w = quantize_tensor(layer.weight.data, num_bits=num_bits)\n",
    "        b = quantize_tensor(layer.bias.data, num_bits=num_bits)\n",
    "        \n",
    "    layer.weight.data = w.tensor.float()\n",
    "    layer.bias.data = b.tensor.float()\n",
    "    \n",
    "    ## END WEIGHTS QUANTISED SIMULATION\n",
    "    \n",
    "    scale_w = w.scale\n",
    "    zp_w = w.zero_point\n",
    "    scale_b = b.scale\n",
    "    zp_b = b.zero_point\n",
    "    \n",
    "    if sym:\n",
    "        scale_next, zero_point_next = calcScaleZeroPointSym(min_val=stat['min'], max_val=stat['max'], num_bits=num_bits)\n",
    "    else:\n",
    "        scale_next, zero_point_next = calcScaleZeroPoint(min_val=stat['min'], max_val=stat['max'], num_bits=num_bits)\n",
    "        \n",
    "    # Preparing input by saturating range to num_bits range.\n",
    "    if sym:\n",
    "        layer.weight.data = ((scale_x * scale_w) / scale_next)*(layer.weight.data)\n",
    "        layer.bias.data = (scale_b/scale_next)*(layer.bias.data)\n",
    "    else:\n",
    "        layer.weight.data = ((scale_x * scale_w) / scale_next)*(layer.weight.data - zp_w)\n",
    "        layer.bias.data = (scale_b/scale_next)*(layer.bias.data + zp_b)\n",
    "    return"
   ]
  },
  {
   "cell_type": "raw",
   "metadata": {},
   "source": [
    "import torch\n",
    "\n",
    "class FakeQuantOp(torch.autograd.Function):\n",
    "    @staticmethod\n",
    "    def forward(ctx, x, num_bits=8, min_val=None, max_val=None):\n",
    "        x = quantize_tensor(x,num_bits=num_bits, min_val=min_val, max_val=max_val)\n",
    "        x = dequantize_tensor(x)\n",
    "        return x\n",
    "\n",
    "    @staticmethod\n",
    "    def backward(ctx, grad_output):\n",
    "        # straight through estimator\n",
    "        return grad_output, None, None, None"
   ]
  },
  {
   "cell_type": "raw",
   "metadata": {},
   "source": [
    "class QNet(nn.Module):\n",
    "    def __init__(self, mnist=True,sym = False, num_bits = 8):\n",
    "      \n",
    "        super(Net, self).__init__()\n",
    "        self.sym = sym\n",
    "        self.num_bits = num_bits\n",
    "        if mnist:\n",
    "            num_channels = 1\n",
    "        else:\n",
    "            num_channels = 3\n",
    "          \n",
    "        self.conv1 = nn.Conv2d(num_channels, 20, 5, 1)\n",
    "        self.conv2 = nn.Conv2d(20, 50, 5, 1)\n",
    "        if mnist:\n",
    "            self.fc1 = nn.Linear(4*4*50, 500)\n",
    "            self.flatten_shape = 4*4*50\n",
    "        else:\n",
    "            self.fc1 = nn.Linear(1250, 500)\n",
    "            self.flatten_shape = 1250\n",
    "\n",
    "        self.fc2 = nn.Linear(500, 10)\n",
    "        \n",
    "    def weight_quant(self, fp_model,stats):\n",
    "        self.conv1.weight.data = fp_model.conv1.weight.data\n",
    "        self.conv1.bias.data = fp_model.conv1.bias.data\n",
    "        self.conv2.weight.data = fp_model.conv2.weight.data\n",
    "        self.conv2.bias.data = fp_model.conv2.bias.data\n",
    "        self.fc1.weight.data = fp_model.fc1.weight.data\n",
    "        self.fc1.bias.data = fp_model.fc1.bias.data\n",
    "        self.fc2.weight.data = fp_model.fc2.weight.data\n",
    "        self.fc2.bias.data = fp_model.fc2.bias.data\n",
    "        if self.sym:\n",
    "            scale, zero_point = calcScaleZeroPointSym(stats['conv1']['min'], stats['conv1']['max'],self.num_bits)\n",
    "        else:\n",
    "            scale, zero_point = calcScaleZeroPoint(stats['conv1']['min'], stats['conv1']['max'],self.num_bits)\n",
    "        \n",
    "        inPlaceQuantize(self.conv1, stats['conv2'], scale, zero_point, sym=self.sym, self.num_bits)\n",
    "        \n",
    "        if self.sym:\n",
    "            scale, zero_point = calcScaleZeroPointSym(stats['conv2']['min'], stats['conv2']['max'],self.num_bits)\n",
    "        else:\n",
    "            scale, zero_point = calcScaleZeroPoint(stats['conv2']['min'], stats['conv2']['max'],self.num_bits)\n",
    "            \n",
    "        inPlaceQuantize(self.conv2, stats['fc1'], scale, zero_point, sym=self.sym, self.num_bits)\n",
    "        \n",
    "        if self.sym:\n",
    "            scale, zero_point = calcScaleZeroPointSym(stats['fc1']['min'], stats['fc1']['max'],self.num_bits)\n",
    "        else:\n",
    "            scale, zero_point = calcScaleZeroPoint(stats['fc1']['min'], stats['fc1']['max'],self.num_bits)\n",
    "            \n",
    "        inPlaceQuantize(self.fc1, stats['fc2'], scale, zero_point, sym=self.sym, self.num_bits)\n",
    "            \n",
    "        if self.sym:\n",
    "            scale, zero_point = calcScaleZeroPointSym(stats['fc2']['min'], stats['fc2']['max'],self.num_bits)\n",
    "        else:\n",
    "            scale, zero_point = calcScaleZeroPoint(stats['fc2']['min'], stats['fc2']['max'],self.num_bits)\n",
    "        \n",
    "        quantizeLayer(self.fc2, stats['out'], scale, zero_point, sym=self.sym, num_bits=self.num_bits)\n",
    "        \n",
    "      \n",
    "    def forward(self, x, vis=False, axs=None):\n",
    "        X = 0\n",
    "        Y = 0\n",
    "        \n",
    "        if sym:\n",
    "            x = quantize_tensor_sym(x, min_val=stats['conv1']['min'], max_val=stats['conv1']['max'], num_bits=num_bits)\n",
    "        else:\n",
    "            x = quantize_tensor(x, min_val=stats['conv1']['min'], max_val=stats['conv1']['max'], num_bits=num_bits)\n",
    "\n",
    "\n",
    "        if vis:\n",
    "            axs[X,Y].set_xlabel('Entry into network, input distribution visualised below: ')\n",
    "            visualise(x, axs[X,Y])\n",
    "            \n",
    "            axs[X,Y+1].set_xlabel(\"Visualising weights of conv 1 layer: \")\n",
    "            visualise(self.conv1.weight.data, axs[X,Y+1])\n",
    "\n",
    "        \n",
    "        x = F.relu(self.conv1(x))\n",
    "\n",
    "        if vis:\n",
    "            axs[X,Y+2].set_xlabel('Output after conv1 visualised below: ')\n",
    "            visualise(x,axs[X,Y+2])\n",
    "            \n",
    "            axs[X,Y+3].set_xlabel(\"Visualising weights of conv 2 layer: \")\n",
    "            visualise(self.conv2.weight.data, axs[X,Y+3])\n",
    "\n",
    "        x = F.max_pool2d(x, 2, 2)\n",
    "        x = F.relu(self.conv2(x))\n",
    "\n",
    "        if vis:\n",
    "            axs[X,Y+4].set_xlabel('Output after conv2 visualised below: ')\n",
    "            visualise(x,axs[X,Y+4])\n",
    "            \n",
    "            axs[X+1,Y].set_xlabel(\"Visualising weights of fc 1 layer: \")\n",
    "            visualise(self.fc1.weight.data, axs[X+1,Y])\n",
    "\n",
    "        x = F.max_pool2d(x, 2, 2)  \n",
    "        x = x.view(-1, self.flatten_shape)\n",
    "        x = F.relu(self.fc1(x))\n",
    "\n",
    "        if vis:\n",
    "            axs[X+1,Y+1].set_xlabel('Output after fc1 visualised below: ')\n",
    "            visualise(x,axs[X+1,Y+1])\n",
    "            \n",
    "            axs[X+1,Y+2].set_xlabel(\"Visualising weights of fc 2 layer: \")\n",
    "            visualise(self.fc2.weight.data, axs[X+1,Y+2])\n",
    "\n",
    "        x = self.fc2(x)\n",
    "\n",
    "        if vis:\n",
    "            axs[X+1,Y+3].set_xlabel('Output after fc2 visualised below: ')\n",
    "            visualise(x,axs[X+1,Y+3])\n",
    "\n",
    "        return F.log_softmax(x, dim=1)\n",
    "    "
   ]
  },
  {
   "cell_type": "raw",
   "metadata": {},
   "source": [
    "def quantForward(model, x, stats, vis=False, axs=None, sym=False, num_bits=8):\n",
    "    X = 0\n",
    "    Y = 0\n",
    "    # Quantise before inputting into incoming layers\n",
    "    if sym:\n",
    "        x = quantize_tensor_sym(x, min_val=stats['conv1']['min'], max_val=stats['conv1']['max'], num_bits=num_bits)\n",
    "    else:\n",
    "        x = quantize_tensor(x, min_val=stats['conv1']['min'], max_val=stats['conv1']['max'], num_bits=num_bits)\n",
    "\n",
    "    if vis:\n",
    "        axs[X,Y].set_xlabel('Entry into network, input distribution visualised below: ')\n",
    "        visualise(x.tensor, axs[X,Y])\n",
    "        \n",
    "    x, scale_next, zero_point_next = quantizeLayer(x.tensor, model.conv1, stats['conv2'], x.scale, x.zero_point, vis, axs, X=X, Y=Y+1, sym=sym, num_bits=num_bits)\n",
    "\n",
    "    x = F.max_pool2d(x, 2, 2)\n",
    "  \n",
    "    if vis:\n",
    "        axs[X,Y+2].set_xlabel('Output after conv1 visualised below: ')\n",
    "        visualise(x,axs[X,Y+2])\n",
    "\n",
    "    x, scale_next, zero_point_next = quantizeLayer(x, model.conv2, stats['fc1'], scale_next, zero_point_next, vis, axs, X=X, Y=Y+3, sym=sym, num_bits=num_bits)\n",
    "\n",
    "    x = F.max_pool2d(x, 2, 2)\n",
    "\n",
    "    if vis:\n",
    "        axs[X,Y+4].set_xlabel('Output after conv2 visualised below: ')\n",
    "        visualise(x,axs[X,Y+4])\n",
    "\n",
    "    x = x.view(-1, 4*4*50)\n",
    "\n",
    "    x, scale_next, zero_point_next = quantizeLayer(x, model.fc1, stats['fc2'], scale_next, zero_point_next, vis, axs, X=X+1, Y=0, sym=sym, num_bits=num_bits)\n",
    "\n",
    "    if vis:\n",
    "        axs[X+1,Y+1].set_xlabel('Output after fc1 visualised below: ')\n",
    "        visualise(x,axs[X+1,Y+1])\n",
    "  \n",
    "    x, scale_next, zero_point_next = quantizeLayer(x, model.fc2, stats['out'], scale_next, zero_point_next, vis, axs, X=X+1, Y=Y+2, sym=sym, num_bits=num_bits)\n",
    "    \n",
    "    if vis:\n",
    "        axs[X+1,Y+3].set_xlabel('Output after fc2 visualised below: ')\n",
    "        visualise(x,axs[X+1,Y+3])\n",
    "        \n",
    "    # Back to dequant for final layer\n",
    "    if sym:\n",
    "        x = dequantize_tensor_sym(QTensor(tensor=x, scale=scale_next, zero_point=zero_point_next))\n",
    "    else:\n",
    "        x = dequantize_tensor(QTensor(tensor=x, scale=scale_next, zero_point=zero_point_next))\n",
    "\n",
    "    if vis:\n",
    "        axs[X+1,Y+4].set_xlabel('Output after fc2 but dequantised visualised below: ')\n",
    "        visualise(x,axs[X+1,Y+4])\n",
    "\n",
    "    return F.log_softmax(x, dim=1)"
   ]
  },
  {
   "cell_type": "code",
   "execution_count": null,
   "metadata": {},
   "outputs": [],
   "source": []
  },
  {
   "cell_type": "code",
   "execution_count": null,
   "metadata": {},
   "outputs": [],
   "source": []
  },
  {
   "cell_type": "code",
   "execution_count": null,
   "metadata": {},
   "outputs": [],
   "source": []
  },
  {
   "cell_type": "code",
   "execution_count": null,
   "metadata": {},
   "outputs": [],
   "source": []
  },
  {
   "cell_type": "code",
   "execution_count": null,
   "metadata": {},
   "outputs": [],
   "source": []
  },
  {
   "cell_type": "code",
   "execution_count": null,
   "metadata": {},
   "outputs": [],
   "source": []
  },
  {
   "cell_type": "code",
   "execution_count": null,
   "metadata": {},
   "outputs": [],
   "source": []
  },
  {
   "cell_type": "code",
   "execution_count": null,
   "metadata": {},
   "outputs": [],
   "source": []
  },
  {
   "cell_type": "code",
   "execution_count": null,
   "metadata": {},
   "outputs": [],
   "source": []
  },
  {
   "cell_type": "markdown",
   "metadata": {
    "id": "ZcxOV-GEy6rD"
   },
   "source": [
    "# Quantisation Aware Training"
   ]
  },
  {
   "cell_type": "code",
   "execution_count": 143,
   "metadata": {
    "id": "SDKoL7ncKeb5"
   },
   "outputs": [],
   "source": [
    "import torch\n",
    "\n",
    "class FakeQuantOp(torch.autograd.Function):\n",
    "    @staticmethod\n",
    "    def forward(ctx, x, num_bits=8, min_val=None, max_val=None):\n",
    "        x = quantize_tensor(x,num_bits=num_bits, min_val=min_val, max_val=max_val)\n",
    "        x = dequantize_tensor(x)\n",
    "        return x\n",
    "\n",
    "    @staticmethod\n",
    "    def backward(ctx, grad_output):\n",
    "        # straight through estimator\n",
    "        return grad_output, None, None, None"
   ]
  },
  {
   "cell_type": "code",
   "execution_count": 144,
   "metadata": {
    "colab": {
     "base_uri": "https://localhost:8080/",
     "height": 34
    },
    "id": "vSLtlCSOZ7Ve",
    "outputId": "00dfc34b-ff38-4ffe-bbd5-f5ec4945e65a"
   },
   "outputs": [
    {
     "name": "stdout",
     "output_type": "stream",
     "text": [
      "tensor([1., 2., 3., 5.])\n"
     ]
    }
   ],
   "source": [
    "x = torch.tensor([1,2,3,6]).float()\n",
    "print(FakeQuantOp.apply(x))"
   ]
  },
  {
   "cell_type": "markdown",
   "metadata": {
    "id": "VTHK-wAWV57B"
   },
   "source": [
    "## Quantization Aware Training Forward Pass"
   ]
  },
  {
   "cell_type": "code",
   "execution_count": 145,
   "metadata": {
    "id": "lShb-FGKRp1h"
   },
   "outputs": [],
   "source": [
    "def quantAwareTrainingForward(model, x, stats, vis=False, axs=None, sym=False, num_bits=8, act_quant=False):\n",
    "  \n",
    "    with torch.no_grad():\n",
    "        stats = updateStats(x.clone().view(x.shape[0], -1), stats, 'conv1')\n",
    "\n",
    "    if act_quant:\n",
    "        x = FakeQuantOp.apply(x, num_bits, stats['conv1']['ema_min'], stats['conv1']['ema_max'])\n",
    "        \n",
    "    conv1weight = model.conv1.weight.data\n",
    "    model.conv1.weight.data = FakeQuantOp.apply(model.conv1.weight.data, num_bits)\n",
    "    x = F.relu(model.conv1(x))\n",
    "\n",
    "    x = F.max_pool2d(x, 2, 2)\n",
    "    \n",
    "    with torch.no_grad():\n",
    "        stats = updateStats(x.clone().view(x.shape[0], -1), stats, 'conv2')\n",
    "    \n",
    "    if act_quant:\n",
    "        x = FakeQuantOp.apply(x, num_bits, stats['conv2']['ema_min'], stats['conv2']['ema_max'])\n",
    "\n",
    "    conv2weight = model.conv2.weight.data\n",
    "    model.conv2.weight.data = FakeQuantOp.apply(model.conv2.weight.data, num_bits)\n",
    "    x = F.relu(model.conv2(x))\n",
    "\n",
    "    x = F.max_pool2d(x, 2, 2)\n",
    "    \n",
    "    with torch.no_grad():\n",
    "        stats = updateStats(x.clone().view(x.shape[0], -1), stats, 'fc1')\n",
    "\n",
    "    if act_quant:\n",
    "        x = FakeQuantOp.apply(x, num_bits, stats['fc1']['ema_min'], stats['fc1']['ema_max'])\n",
    "\n",
    "    x = x.view(-1, 4*4*50)\n",
    "    fc1weight = model.fc1.weight.data\n",
    "    model.fc1.weight.data = FakeQuantOp.apply(model.fc1.weight.data, num_bits)\n",
    "    x = F.relu(model.fc1(x))\n",
    "    \n",
    "    if act_quant:\n",
    "        x = FakeQuantOp.apply(x, num_bits, stats['fc2']['ema_min'], stats['fc2']['ema_max'])\n",
    "    \n",
    "    with torch.no_grad():\n",
    "        stats = updateStats(x.clone().view(x.shape[0], -1), stats, 'fc2')\n",
    "    \n",
    "    fc2weight = model.fc2.weight.data\n",
    "    model.fc2.weight.data = FakeQuantOp.apply(model.fc2.weight.data, num_bits)\n",
    "    x = model.fc2(x)\n",
    "    \n",
    "    if act_quant:\n",
    "        x = FakeQuantOp.apply(x, num_bits, stats['out']['ema_min'], stats['out']['ema_max'])\n",
    "    \n",
    "    with torch.no_grad():\n",
    "        stats = updateStats(x.clone().view(x.shape[0], -1), stats, 'out')\n",
    "  \n",
    "    return F.log_softmax(x, dim=1), conv1weight, conv2weight, fc1weight, fc2weight,stats"
   ]
  },
  {
   "cell_type": "markdown",
   "metadata": {
    "id": "GCyUw4izk41q"
   },
   "source": [
    "# Train using Quantization Aware Training"
   ]
  },
  {
   "cell_type": "code",
   "execution_count": 153,
   "metadata": {},
   "outputs": [],
   "source": [
    "def trainQuantAware(args, model, device, train_loader, optimizer, epoch, stats, act_quant=False, num_bits=8):\n",
    "    model.train()\n",
    "    for batch_idx, (data, target) in enumerate(train_loader):\n",
    "        data, target = data.to(device), target.to(device)\n",
    "        optimizer.zero_grad()\n",
    "        output, conv1weight, conv2weight, fc1weight,fc2weight, stats = quantAwareTrainingForward(model, data, stats, num_bits=num_bits, act_quant=act_quant)\n",
    "\n",
    "        model.conv1.weight.data = conv1weight\n",
    "        model.conv2.weight.data = conv2weight\n",
    "        model.fc1.weight.data = fc1weight\n",
    "        model.fc2.weight.data = fc2weight\n",
    "\n",
    "        loss = F.nll_loss(output, target)\n",
    "        loss.backward()\n",
    "        #torch.nn.utils.clip_grad_norm_(model.parameters(), max_norm=2.0, norm_type=2)\n",
    "        optimizer.step()\n",
    "\n",
    "        if batch_idx % args[\"log_interval\"] == 0:\n",
    "            print('Train Epoch: {} [{}/{} ({:.0f}%)]\\tLoss: {:.6f}'.format(\n",
    "                epoch, batch_idx * len(data), len(train_loader.dataset),\n",
    "                100. * batch_idx / len(train_loader), loss.item()))\n",
    "    return stats"
   ]
  },
  {
   "cell_type": "code",
   "execution_count": 154,
   "metadata": {},
   "outputs": [],
   "source": [
    "def testQuantAware(args, model, device, test_loader, stats, act_quant, num_bits=8):\n",
    "    model.eval()\n",
    "    test_loss = 0\n",
    "    correct = 0\n",
    "    with torch.no_grad():\n",
    "        for data, target in test_loader:\n",
    "            data, target = data.to(device), target.to(device)\n",
    "            output, conv1weight, conv2weight, fc1weight, fc2weight,_ = quantAwareTrainingForward(model, data, stats, num_bits=num_bits, act_quant=act_quant)\n",
    "            \n",
    "            model.conv1.weight.data = conv1weight\n",
    "            model.conv2.weight.data = conv2weight\n",
    "            model.fc1.weight.data = fc1weight\n",
    "            model.fc2.weight.data = fc2weight\n",
    "\n",
    "            test_loss += F.nll_loss(output, target, reduction='sum').item() # sum up batch loss\n",
    "            pred = output.argmax(dim=1, keepdim=True) # get the index of the max log-probability\n",
    "            correct += pred.eq(target.view_as(pred)).sum().item()\n",
    "\n",
    "    test_loss /= len(test_loader.dataset)\n",
    "\n",
    "    print('\\nTest set: Average loss: {:.4f}, Accuracy: {}/{} ({:.0f}%)\\n'.format(\n",
    "        test_loss, correct, len(test_loader.dataset),\n",
    "        100. * correct / len(test_loader.dataset)))"
   ]
  },
  {
   "cell_type": "code",
   "execution_count": 159,
   "metadata": {
    "colab": {
     "base_uri": "https://localhost:8080/",
     "height": 874
    },
    "id": "LuKYWJfSR65B",
    "outputId": "171a6c6f-adc5-4e70-d12f-151c1ce80633"
   },
   "outputs": [
    {
     "name": "stdout",
     "output_type": "stream",
     "text": [
      "Train Epoch: 1 [0/60000 (0%)]\tLoss: 2.297836\n",
      "Train Epoch: 1 [6400/60000 (11%)]\tLoss: 0.563341\n",
      "Train Epoch: 1 [12800/60000 (21%)]\tLoss: 0.334768\n",
      "Train Epoch: 1 [19200/60000 (32%)]\tLoss: 0.331740\n",
      "Train Epoch: 1 [25600/60000 (43%)]\tLoss: 0.181849\n",
      "Train Epoch: 1 [32000/60000 (53%)]\tLoss: 0.154233\n",
      "Train Epoch: 1 [38400/60000 (64%)]\tLoss: 0.274554\n",
      "Train Epoch: 1 [44800/60000 (75%)]\tLoss: 0.090886\n",
      "Train Epoch: 1 [51200/60000 (85%)]\tLoss: 0.134966\n",
      "Train Epoch: 1 [57600/60000 (96%)]\tLoss: 0.046801\n",
      "\n",
      "Test set: Average loss: 0.0999, Accuracy: 9692/10000 (97%)\n",
      "\n",
      "Train Epoch: 2 [0/60000 (0%)]\tLoss: 0.176035\n",
      "Train Epoch: 2 [6400/60000 (11%)]\tLoss: 0.061343\n",
      "Train Epoch: 2 [12800/60000 (21%)]\tLoss: 0.063193\n",
      "Train Epoch: 2 [19200/60000 (32%)]\tLoss: 0.080138\n",
      "Train Epoch: 2 [25600/60000 (43%)]\tLoss: 0.115830\n",
      "Train Epoch: 2 [32000/60000 (53%)]\tLoss: 0.115189\n",
      "Train Epoch: 2 [38400/60000 (64%)]\tLoss: 0.094504\n",
      "Train Epoch: 2 [44800/60000 (75%)]\tLoss: 0.086161\n",
      "Train Epoch: 2 [51200/60000 (85%)]\tLoss: 0.056349\n",
      "Train Epoch: 2 [57600/60000 (96%)]\tLoss: 0.049859\n",
      "\n",
      "Test set: Average loss: 0.0862, Accuracy: 9725/10000 (97%)\n",
      "\n",
      "Train Epoch: 3 [0/60000 (0%)]\tLoss: 0.024543\n",
      "Train Epoch: 3 [6400/60000 (11%)]\tLoss: 0.087010\n",
      "Train Epoch: 3 [12800/60000 (21%)]\tLoss: 0.230741\n",
      "Train Epoch: 3 [19200/60000 (32%)]\tLoss: 0.195076\n",
      "Train Epoch: 3 [25600/60000 (43%)]\tLoss: 0.012050\n",
      "Train Epoch: 3 [32000/60000 (53%)]\tLoss: 0.067358\n",
      "Train Epoch: 3 [38400/60000 (64%)]\tLoss: 0.141190\n",
      "Train Epoch: 3 [44800/60000 (75%)]\tLoss: 0.030830\n",
      "Train Epoch: 3 [51200/60000 (85%)]\tLoss: 0.032512\n",
      "Train Epoch: 3 [57600/60000 (96%)]\tLoss: 0.095293\n",
      "\n",
      "Test set: Average loss: 0.0512, Accuracy: 9847/10000 (98%)\n",
      "\n",
      "Train Epoch: 4 [0/60000 (0%)]\tLoss: 0.011838\n",
      "Train Epoch: 4 [6400/60000 (11%)]\tLoss: 0.024127\n",
      "Train Epoch: 4 [12800/60000 (21%)]\tLoss: 0.117645\n",
      "Train Epoch: 4 [19200/60000 (32%)]\tLoss: 0.017512\n",
      "Train Epoch: 4 [25600/60000 (43%)]\tLoss: 0.066424\n",
      "Train Epoch: 4 [32000/60000 (53%)]\tLoss: 0.057753\n",
      "Train Epoch: 4 [38400/60000 (64%)]\tLoss: 0.035273\n",
      "Train Epoch: 4 [44800/60000 (75%)]\tLoss: 0.079385\n",
      "Train Epoch: 4 [51200/60000 (85%)]\tLoss: 0.048789\n",
      "Train Epoch: 4 [57600/60000 (96%)]\tLoss: 0.011460\n",
      "\n",
      "Test set: Average loss: 0.0469, Accuracy: 9849/10000 (98%)\n",
      "\n",
      "Train Epoch: 5 [0/60000 (0%)]\tLoss: 0.095207\n",
      "Train Epoch: 5 [6400/60000 (11%)]\tLoss: 0.095304\n",
      "Train Epoch: 5 [12800/60000 (21%)]\tLoss: 0.054714\n",
      "Train Epoch: 5 [19200/60000 (32%)]\tLoss: 0.044793\n",
      "Train Epoch: 5 [25600/60000 (43%)]\tLoss: 0.017940\n",
      "Train Epoch: 5 [32000/60000 (53%)]\tLoss: 0.043458\n",
      "Train Epoch: 5 [38400/60000 (64%)]\tLoss: 0.032039\n",
      "Train Epoch: 5 [44800/60000 (75%)]\tLoss: 0.058780\n",
      "Train Epoch: 5 [51200/60000 (85%)]\tLoss: 0.014916\n",
      "Train Epoch: 5 [57600/60000 (96%)]\tLoss: 0.065461\n",
      "\n",
      "Test set: Average loss: 0.0412, Accuracy: 9870/10000 (99%)\n",
      "\n"
     ]
    }
   ],
   "source": [
    "def mainQuantAware(mnist=True):\n",
    " \n",
    "    batch_size = 64\n",
    "    test_batch_size = 64\n",
    "    epochs = 5\n",
    "    lr = 0.01\n",
    "    momentum = 0.5\n",
    "    seed = 1\n",
    "    log_interval = 100\n",
    "    save_model = False\n",
    "    no_cuda = False\n",
    "    \n",
    "    use_cuda = not no_cuda and torch.cuda.is_available()\n",
    "\n",
    "    torch.manual_seed(seed)\n",
    "\n",
    "    device = torch.device(\"cuda\" if use_cuda else \"cpu\")\n",
    "\n",
    "    kwargs = {'num_workers': 1, 'pin_memory': True} if use_cuda else {}\n",
    "\n",
    "    if mnist:\n",
    "        train_loader = torch.utils.data.DataLoader(\n",
    "          datasets.MNIST('../tensorflow_datasets', train=True, download=True,\n",
    "                        transform=transforms.Compose([\n",
    "                            transforms.ToTensor(),\n",
    "                            transforms.Normalize((0.1307,), (0.3081,))\n",
    "                        ])),\n",
    "            batch_size=batch_size, shuffle=True, **kwargs)\n",
    "      \n",
    "        test_loader = torch.utils.data.DataLoader(\n",
    "        datasets.MNIST('../tensorflow_datasets', train=False, transform=transforms.Compose([\n",
    "                            transforms.ToTensor(),\n",
    "                            transforms.Normalize((0.1307,), (0.3081,))\n",
    "                        ])),\n",
    "            batch_size=test_batch_size, shuffle=True, **kwargs)\n",
    "    else:\n",
    "        transform = transforms.Compose(\n",
    "          [transforms.ToTensor(),\n",
    "          transforms.Normalize((0.5, 0.5, 0.5), (0.5, 0.5, 0.5))])\n",
    "\n",
    "        trainset = datasets.CIFAR10(root='./dataCifar', train=True,\n",
    "                                              download=True, transform=transform)\n",
    "        train_loader = torch.utils.data.DataLoader(trainset, batch_size=batch_size,\n",
    "                                                shuffle=True, num_workers=2)\n",
    "            \n",
    "        testset = datasets.CIFAR10(root='./dataCifar', train=False,\n",
    "                                            download=True, transform=transform)\n",
    "        test_loader = torch.utils.data.DataLoader(testset, batch_size=test_batch_size,\n",
    "                                              shuffle=False, num_workers=2)\n",
    "          \n",
    "  \n",
    "    model = Net(mnist=mnist).to(device)\n",
    "    optimizer = optim.SGD(model.parameters(), lr=lr, momentum=momentum)\n",
    "    args = {}\n",
    "    args[\"log_interval\"] = log_interval\n",
    "    num_bits=2 #!\n",
    "    stats = {}\n",
    "    for epoch in range(1, epochs + 1):\n",
    "        if epoch > 5:\n",
    "            act_quant = True \n",
    "        else:\n",
    "            act_quant = False\n",
    "\n",
    "        stats = trainQuantAware(args, model, device, train_loader, optimizer, epoch, stats, act_quant, num_bits=num_bits)\n",
    "        testQuantAware(args, model, device, test_loader, stats, act_quant, num_bits=num_bits)\n",
    "\n",
    "    if (save_model):\n",
    "        torch.save(model.state_dict(),\"mnist_cnn.pt\")\n",
    "\n",
    "    return model, stats\n",
    "\n",
    "model, old_stats = mainQuantAware()\n"
   ]
  },
  {
   "cell_type": "code",
   "execution_count": 160,
   "metadata": {},
   "outputs": [
    {
     "data": {
      "text/plain": [
       "Parameter containing:\n",
       "tensor([[[[-4.6794e-02, -3.2186e-02,  2.4758e-02, -9.8999e-04,  4.6134e-03],\n",
       "          [-4.0808e-02,  2.1534e-02,  1.9992e-03, -5.7073e-03, -1.5275e-02],\n",
       "          [ 8.8978e-03,  1.5694e-02,  1.6589e-02,  1.2907e-02, -7.2495e-03],\n",
       "          [-1.8258e-02,  4.8356e-02,  1.0682e-02, -2.0542e-02,  5.3360e-02],\n",
       "          [ 5.6165e-02, -1.1504e-02,  2.1553e-03,  1.8783e-02, -2.0392e-03]],\n",
       "\n",
       "         [[ 1.2932e-02, -3.4263e-02,  2.6123e-02, -3.3554e-02,  3.2166e-02],\n",
       "          [ 2.1147e-03, -1.7226e-02,  1.9963e-02, -5.7654e-02, -3.0871e-02],\n",
       "          [ 1.1089e-02,  3.0216e-02, -5.2659e-02, -5.9768e-02, -2.2232e-02],\n",
       "          [-2.7123e-02, -4.7982e-02, -5.9640e-02, -4.1710e-02,  4.9781e-02],\n",
       "          [-2.6204e-02, -7.7020e-02, -6.7504e-02,  7.7868e-03, -2.7597e-04]],\n",
       "\n",
       "         [[ 2.7674e-02, -1.4351e-02, -4.7653e-02, -3.5681e-02, -2.1092e-02],\n",
       "          [-6.9596e-03, -7.7883e-03, -2.5584e-02,  9.2545e-04, -5.8119e-02],\n",
       "          [ 3.0576e-02,  3.2176e-03, -3.0371e-02,  8.4822e-03, -3.3227e-03],\n",
       "          [-5.8206e-02, -5.9943e-02,  1.1853e-02,  6.9648e-02,  6.8790e-02],\n",
       "          [-8.2474e-03,  7.0138e-02,  1.0769e-01,  7.9286e-02, -4.9673e-03]],\n",
       "\n",
       "         ...,\n",
       "\n",
       "         [[ 1.3334e-02, -2.6298e-02,  4.6275e-04, -3.9987e-03,  9.7569e-03],\n",
       "          [ 4.3969e-02, -1.7419e-02,  7.8309e-03,  3.2127e-02, -6.3780e-02],\n",
       "          [-1.0933e-02,  3.7450e-02,  1.8560e-02,  2.6951e-02,  3.8640e-03],\n",
       "          [-1.9200e-02, -3.9804e-02,  1.3993e-02,  3.5047e-02,  7.6608e-02],\n",
       "          [ 5.3533e-02,  6.4532e-02,  3.6566e-02,  5.1980e-02, -2.2154e-02]],\n",
       "\n",
       "         [[ 2.5760e-02, -7.5348e-03, -2.8887e-02, -2.3529e-02, -1.3002e-02],\n",
       "          [-4.0747e-02,  2.0426e-02, -1.9928e-02,  2.8012e-02,  4.9257e-02],\n",
       "          [-6.1044e-03,  3.5481e-02,  3.7613e-02,  6.1086e-02, -2.8223e-02],\n",
       "          [-1.2743e-03,  3.4189e-03,  5.5620e-02, -4.0678e-02, -2.9333e-02],\n",
       "          [-9.3002e-03,  1.9192e-02,  2.4610e-02, -1.5230e-02,  3.2472e-03]],\n",
       "\n",
       "         [[ 5.3227e-02,  1.9174e-02, -2.8770e-02,  1.5405e-02,  2.9243e-02],\n",
       "          [-5.6789e-03, -1.3353e-02,  8.1524e-03, -6.0487e-03, -1.1488e-02],\n",
       "          [ 3.0293e-02,  4.8503e-02, -4.7528e-03,  1.6360e-02,  4.2054e-03],\n",
       "          [ 2.8739e-02,  6.7532e-02,  1.0042e-01,  9.6953e-02,  3.8250e-02],\n",
       "          [ 2.7949e-02,  8.9471e-02,  3.6157e-02,  3.3103e-02, -3.8123e-02]]],\n",
       "\n",
       "\n",
       "        [[[-4.9443e-02, -8.2180e-03, -8.7001e-03, -2.4961e-02,  8.6813e-03],\n",
       "          [ 7.5982e-03, -6.8691e-03, -4.8996e-02, -6.0385e-02, -7.7597e-03],\n",
       "          [-1.8083e-03, -2.9022e-03,  1.6868e-02, -1.3658e-02,  9.3679e-03],\n",
       "          [-1.5991e-02, -2.4976e-02,  1.5464e-02, -4.3246e-02, -8.2687e-03],\n",
       "          [-3.7658e-02,  4.3785e-02, -1.1055e-02,  4.7507e-02,  3.1172e-02]],\n",
       "\n",
       "         [[ 4.3694e-02,  2.5424e-02, -1.1718e-02, -2.2094e-02, -1.5378e-02],\n",
       "          [-2.3020e-04, -3.6411e-02,  1.6556e-02, -2.2533e-02,  1.3602e-03],\n",
       "          [ 9.5609e-03,  2.5472e-02, -3.1880e-02, -4.4911e-02,  1.4136e-02],\n",
       "          [ 1.4104e-02,  3.7990e-02, -2.0788e-02,  8.3722e-03, -5.4170e-02],\n",
       "          [-1.2768e-02,  8.5526e-04, -3.8444e-03, -3.7229e-02, -6.1271e-03]],\n",
       "\n",
       "         [[ 5.4279e-02,  5.6324e-02, -3.0142e-02, -1.1790e-02, -3.3673e-02],\n",
       "          [-5.8188e-02, -4.4467e-02,  7.5695e-03, -3.5530e-02, -1.1162e-02],\n",
       "          [ 2.4339e-02, -3.1897e-02,  1.0046e-02,  1.2875e-02,  3.7266e-02],\n",
       "          [ 3.1543e-03, -5.8017e-02, -5.9876e-02, -4.0653e-02,  2.9263e-02],\n",
       "          [ 3.9364e-02,  2.7787e-02, -4.2635e-02, -4.8984e-02,  3.0768e-02]],\n",
       "\n",
       "         ...,\n",
       "\n",
       "         [[ 1.9649e-02, -3.1748e-02,  2.9953e-03, -3.6747e-02, -1.8701e-02],\n",
       "          [-2.2451e-02, -1.4478e-03,  4.3692e-03, -2.1696e-02, -1.8859e-02],\n",
       "          [-7.2962e-03,  1.9233e-03, -5.2819e-02, -2.7786e-02, -5.0596e-02],\n",
       "          [ 1.9892e-03, -7.3276e-03,  1.7868e-02,  2.1381e-02, -4.5182e-02],\n",
       "          [-1.0267e-02,  2.1596e-03, -7.1808e-03, -1.5028e-02, -2.7839e-02]],\n",
       "\n",
       "         [[-1.9107e-02, -6.3816e-03,  4.4518e-02, -5.1672e-03,  3.6438e-02],\n",
       "          [-2.9681e-02, -2.2597e-03, -5.0513e-02, -5.5831e-02, -2.5735e-04],\n",
       "          [-1.9089e-02,  3.0848e-02,  1.0626e-02, -7.5126e-02, -1.7774e-02],\n",
       "          [-7.3134e-04, -1.3380e-02, -3.5850e-02, -3.2850e-02,  1.3427e-02],\n",
       "          [ 2.7022e-03,  2.1213e-02, -2.9995e-03,  2.1468e-02, -8.3536e-04]],\n",
       "\n",
       "         [[-1.6396e-02, -8.6803e-03, -4.7509e-02, -7.9974e-03, -1.8298e-02],\n",
       "          [-3.4673e-02, -5.1847e-02, -3.4693e-02, -5.0551e-02, -8.0668e-03],\n",
       "          [ 1.0599e-02, -3.4288e-02,  1.3296e-02,  1.0627e-02,  6.1590e-03],\n",
       "          [-7.5718e-03,  1.7448e-02, -4.2663e-02,  1.3041e-02,  3.4223e-02],\n",
       "          [ 3.1887e-03,  5.1838e-02,  4.4911e-02, -7.6302e-03, -1.7601e-02]]],\n",
       "\n",
       "\n",
       "        [[[-9.9740e-03,  4.6768e-03, -4.4224e-02, -1.5960e-02, -2.7758e-02],\n",
       "          [ 7.0770e-03, -2.1212e-02,  1.2883e-02,  2.8642e-02, -2.4293e-02],\n",
       "          [-9.5338e-03, -2.0533e-02, -2.7566e-02, -3.1310e-02, -1.0376e-02],\n",
       "          [ 1.0664e-02, -4.2247e-03,  7.2567e-03,  2.7505e-02,  1.2043e-02],\n",
       "          [ 2.2659e-02,  2.3389e-02, -3.0536e-02, -2.5745e-02, -2.4008e-02]],\n",
       "\n",
       "         [[ 1.1958e-03, -4.7644e-02,  6.7489e-03,  6.8269e-02,  1.8715e-02],\n",
       "          [-6.2156e-02,  1.7154e-02,  5.3074e-02,  5.1728e-02, -4.4630e-02],\n",
       "          [-2.7437e-02,  2.0795e-02,  9.4734e-02,  3.8402e-02, -4.4467e-02],\n",
       "          [-3.3440e-02,  2.9957e-02,  5.3691e-02,  3.3209e-03, -5.4940e-02],\n",
       "          [ 7.2536e-04,  2.1249e-02, -2.1852e-02,  5.0079e-03, -1.7770e-02]],\n",
       "\n",
       "         [[-4.5059e-02, -4.1349e-02, -2.9403e-03, -3.6380e-02, -1.1232e-02],\n",
       "          [ 2.5270e-02, -2.0272e-03,  2.9522e-03,  2.4323e-02,  4.8273e-03],\n",
       "          [ 2.3143e-02,  2.5497e-02,  9.9679e-03, -5.8481e-02,  7.7083e-04],\n",
       "          [ 5.7094e-02,  1.5665e-02, -5.4642e-02,  6.5618e-03,  3.4405e-02],\n",
       "          [ 4.1360e-02, -1.1855e-02, -1.1649e-02, -7.2201e-04, -1.8420e-02]],\n",
       "\n",
       "         ...,\n",
       "\n",
       "         [[-7.0707e-03, -1.0072e-02, -3.9321e-02,  2.2737e-02, -3.6651e-02],\n",
       "          [-4.9556e-02,  3.2103e-03, -4.0156e-02, -1.3301e-02, -3.8450e-02],\n",
       "          [-6.6219e-03, -2.7529e-03,  2.1366e-02,  2.1381e-02,  4.5889e-02],\n",
       "          [ 1.4347e-02,  1.8790e-02, -5.2651e-02, -3.7624e-02,  2.4903e-02],\n",
       "          [ 3.7431e-03, -6.1757e-03,  1.4195e-02,  3.0727e-02,  2.5611e-02]],\n",
       "\n",
       "         [[-2.6739e-02,  3.8109e-03,  8.6240e-03,  1.3147e-02, -2.1462e-02],\n",
       "          [-1.7463e-02,  3.9117e-02,  2.4652e-02, -2.9755e-03, -2.4975e-02],\n",
       "          [-5.6719e-02, -4.3100e-03,  4.9568e-03, -3.0778e-02, -5.0055e-02],\n",
       "          [-5.4466e-02,  4.2275e-02,  5.0115e-02,  5.2302e-02,  3.7558e-02],\n",
       "          [-1.3940e-02,  1.5322e-02,  1.6183e-02, -2.3976e-02, -3.2651e-02]],\n",
       "\n",
       "         [[ 3.5910e-02, -1.4550e-02,  1.1611e-02, -3.4323e-02, -4.5247e-02],\n",
       "          [-3.4826e-02,  9.4735e-05,  3.1417e-02,  1.0280e-02, -2.0279e-02],\n",
       "          [ 2.9494e-02, -1.6241e-02, -1.3021e-05, -4.2600e-02,  5.9187e-03],\n",
       "          [ 3.5582e-02, -4.2010e-02, -3.8543e-03, -4.8670e-02, -1.5948e-02],\n",
       "          [-2.8488e-02, -6.4596e-03, -4.4563e-02,  1.2485e-02, -4.1495e-02]]],\n",
       "\n",
       "\n",
       "        ...,\n",
       "\n",
       "\n",
       "        [[[ 2.9334e-02,  3.9515e-02, -3.7004e-02, -2.5051e-02,  3.1269e-02],\n",
       "          [ 7.8339e-03,  2.9747e-02, -4.6020e-02, -2.1457e-02,  1.1239e-02],\n",
       "          [ 3.3518e-02, -3.9688e-02, -7.1729e-03, -3.7858e-02, -3.1431e-02],\n",
       "          [-2.6898e-02, -5.4275e-02, -5.7609e-02, -2.5870e-03,  8.6961e-03],\n",
       "          [ 2.1588e-02,  1.3013e-02,  3.1429e-03,  3.8045e-02,  1.4105e-02]],\n",
       "\n",
       "         [[-4.5184e-04,  2.1579e-02, -5.0133e-02, -1.4922e-02, -9.6400e-04],\n",
       "          [-1.1919e-02, -1.9716e-02, -4.2171e-02,  1.7904e-03,  5.4490e-02],\n",
       "          [ 3.1834e-02, -1.0009e-02,  1.7724e-02,  2.5204e-02,  1.0959e-01],\n",
       "          [ 2.9299e-02,  4.0925e-03, -1.6884e-02,  3.9099e-02,  6.0569e-02],\n",
       "          [ 1.1149e-02,  1.4025e-02,  3.5992e-02,  4.1171e-02,  3.2180e-02]],\n",
       "\n",
       "         [[ 3.9765e-04, -5.8290e-02, -5.9118e-02, -3.8158e-03, -4.1680e-02],\n",
       "          [-2.5461e-02,  6.1415e-04, -5.0561e-03, -3.7504e-02,  5.3842e-02],\n",
       "          [-3.5643e-03,  8.5687e-03, -3.5626e-02, -6.9370e-03,  2.9879e-03],\n",
       "          [-5.4385e-02, -1.5472e-02,  8.2470e-03,  6.6336e-02,  1.2775e-02],\n",
       "          [ 2.8896e-02,  5.0830e-02,  5.0310e-02,  3.4796e-02,  2.3890e-02]],\n",
       "\n",
       "         ...,\n",
       "\n",
       "         [[-1.9072e-02,  4.7467e-03,  1.0034e-02, -8.9601e-04,  2.0851e-02],\n",
       "          [ 3.1791e-02, -5.4257e-02, -2.0100e-02,  2.6491e-03, -1.3896e-02],\n",
       "          [ 4.2368e-02, -5.9783e-02,  2.9991e-02,  3.8334e-03, -3.6234e-02],\n",
       "          [-1.1417e-02,  5.5929e-04,  5.8642e-02, -2.6747e-02,  1.9818e-02],\n",
       "          [-3.9064e-02,  3.0637e-02,  5.7416e-02, -5.4042e-03,  1.6386e-02]],\n",
       "\n",
       "         [[-3.2316e-02, -2.4185e-02, -1.1497e-02, -5.8205e-03,  8.1972e-03],\n",
       "          [-4.4332e-02, -2.4223e-02, -2.2365e-02, -9.7130e-03, -6.3963e-03],\n",
       "          [-8.2825e-03,  2.1202e-02, -3.5793e-03, -1.8106e-02,  1.2351e-02],\n",
       "          [ 4.6275e-02, -2.3445e-02, -3.1518e-02,  3.7565e-03, -1.9238e-02],\n",
       "          [-2.7934e-02,  2.0407e-02, -5.4004e-02,  1.1908e-02,  1.7732e-03]],\n",
       "\n",
       "         [[ 2.5109e-02, -3.3285e-02, -4.2420e-02,  2.0642e-02,  2.0185e-02],\n",
       "          [ 4.4034e-02, -2.0987e-02,  4.4335e-03,  3.6315e-02,  5.6071e-02],\n",
       "          [-2.8483e-02,  7.0206e-03, -6.4011e-02,  9.8183e-03,  3.4413e-03],\n",
       "          [-2.9683e-03,  8.9722e-03, -4.0882e-02,  5.7338e-02, -1.7091e-02],\n",
       "          [ 1.6507e-02,  5.6775e-03,  4.6725e-02, -2.9537e-02,  3.5339e-02]]],\n",
       "\n",
       "\n",
       "        [[[ 8.5110e-03, -3.1703e-02,  2.9997e-02,  2.3135e-02, -1.8715e-03],\n",
       "          [-3.6551e-02,  2.0790e-02,  3.2643e-02, -4.1863e-02,  1.7688e-04],\n",
       "          [ 3.9085e-02,  3.2478e-02,  3.0322e-02,  5.2735e-02, -3.0502e-03],\n",
       "          [-2.2313e-02,  1.4348e-02, -3.3711e-02,  1.8953e-02,  1.1681e-02],\n",
       "          [-1.9225e-02,  2.0576e-02,  2.2885e-02, -4.9870e-02,  2.5912e-02]],\n",
       "\n",
       "         [[ 1.2277e-02,  1.9692e-02,  2.8457e-02,  2.8412e-02,  2.3280e-03],\n",
       "          [-1.3611e-02,  3.9044e-02,  4.7246e-02, -4.9501e-02, -4.6070e-02],\n",
       "          [ 1.2503e-02,  4.6239e-03,  1.8558e-02, -3.0171e-02,  3.3917e-02],\n",
       "          [-5.9757e-03,  1.2810e-02, -7.4684e-03, -3.9011e-02,  9.7926e-03],\n",
       "          [-4.4996e-02,  3.1639e-02, -3.5018e-02,  2.0820e-02, -2.2572e-02]],\n",
       "\n",
       "         [[-5.4372e-03,  1.0249e-02,  5.2238e-02,  5.1442e-02,  1.5238e-03],\n",
       "          [-1.8361e-02, -3.2008e-02,  1.1452e-02, -8.1770e-03, -3.6264e-02],\n",
       "          [-3.5810e-02, -2.2651e-02, -3.5168e-02,  3.3634e-02, -3.8070e-02],\n",
       "          [-7.4188e-03, -1.9978e-02, -5.3716e-02,  1.2150e-02, -1.8612e-02],\n",
       "          [ 1.4003e-02,  5.0540e-03, -2.9974e-02, -4.1540e-02,  3.2896e-02]],\n",
       "\n",
       "         ...,\n",
       "\n",
       "         [[-3.0231e-02, -1.8230e-02,  2.3609e-02,  4.1925e-03, -2.7496e-02],\n",
       "          [ 1.6535e-02,  2.6866e-02,  5.6759e-03,  1.5403e-02, -3.4023e-02],\n",
       "          [-2.6414e-02, -3.5219e-02, -1.1107e-02, -4.4613e-02,  3.6114e-02],\n",
       "          [-1.4376e-02, -4.2424e-02,  3.2595e-02, -2.2385e-02, -4.6115e-02],\n",
       "          [-3.1596e-02, -2.2312e-02, -2.4823e-02,  1.6884e-02, -4.6079e-02]],\n",
       "\n",
       "         [[-1.9550e-02,  2.1332e-03, -6.4303e-03,  7.1214e-02,  6.8899e-02],\n",
       "          [-1.4295e-04, -1.3485e-02,  5.1383e-02, -3.9686e-02, -1.8843e-02],\n",
       "          [ 1.9897e-02,  3.2010e-02, -4.0033e-02, -1.9200e-02,  1.0912e-02],\n",
       "          [-4.7690e-02,  3.3216e-02,  2.0192e-02,  2.2563e-02, -1.5858e-02],\n",
       "          [-3.6383e-02,  2.4465e-02, -2.4014e-02, -6.3512e-03,  7.3090e-03]],\n",
       "\n",
       "         [[-2.3292e-02,  1.2008e-02, -2.1834e-02, -6.0909e-03, -1.8398e-03],\n",
       "          [-3.7301e-02,  2.7444e-02, -4.8465e-02, -2.9281e-02, -2.1973e-03],\n",
       "          [-1.5871e-02, -2.9350e-02, -3.6256e-02,  4.0396e-02, -7.6155e-03],\n",
       "          [-4.5446e-02, -2.4604e-03, -3.5922e-02,  7.9102e-03, -1.5224e-02],\n",
       "          [ 4.0527e-03,  4.3701e-02,  2.4457e-02,  3.2944e-03, -4.1495e-02]]],\n",
       "\n",
       "\n",
       "        [[[ 7.3468e-04, -3.5839e-02,  1.4531e-02,  2.3836e-02, -4.1293e-02],\n",
       "          [ 2.9665e-03,  1.8221e-02, -3.3186e-02,  1.2550e-02,  2.1677e-03],\n",
       "          [-3.6461e-02, -1.5907e-02, -2.0632e-02, -4.4814e-02, -2.4565e-03],\n",
       "          [ 1.2537e-02,  4.8157e-02, -2.7985e-02,  7.8099e-04,  3.6735e-02],\n",
       "          [ 5.6853e-03, -1.2802e-03,  3.3688e-02, -3.2123e-02,  2.5525e-02]],\n",
       "\n",
       "         [[-8.4582e-03,  5.4568e-03,  2.6940e-02,  4.2586e-02, -1.8908e-02],\n",
       "          [-4.3684e-02,  5.4973e-02,  7.2665e-03, -3.1985e-02, -3.7750e-02],\n",
       "          [ 1.1089e-02,  5.5297e-02,  3.9828e-02, -5.0738e-02, -4.0577e-02],\n",
       "          [ 4.6075e-02, -2.7194e-03, -1.5248e-02, -3.9029e-02,  1.7812e-02],\n",
       "          [-2.5580e-02, -1.5261e-02, -4.5296e-02, -2.6555e-02,  8.1619e-03]],\n",
       "\n",
       "         [[-5.4923e-02,  3.8605e-03,  9.7531e-02,  3.6649e-02, -4.7319e-02],\n",
       "          [ 2.5375e-02,  8.1658e-02,  4.6946e-02, -5.1399e-02,  3.7081e-02],\n",
       "          [ 3.0704e-02, -2.5373e-02, -6.1153e-02, -2.1402e-02, -1.5802e-02],\n",
       "          [ 1.8667e-02,  8.8646e-03, -6.0028e-02, -5.5364e-02, -5.2782e-02],\n",
       "          [-4.7012e-02, -3.7275e-02, -5.7685e-02,  3.8183e-03,  1.3750e-03]],\n",
       "\n",
       "         ...,\n",
       "\n",
       "         [[-1.8454e-02,  1.5973e-02,  2.9692e-02,  3.5442e-02, -3.4140e-03],\n",
       "          [ 4.8665e-02,  1.1123e-02, -1.1602e-02, -1.3308e-02,  3.4403e-02],\n",
       "          [-3.2367e-02, -9.4267e-03, -1.5246e-03, -2.5690e-02,  7.6806e-03],\n",
       "          [-4.3092e-02, -2.9497e-03, -1.0945e-02, -4.2584e-02,  3.5904e-03],\n",
       "          [ 1.5756e-02, -2.1526e-02,  1.6709e-02,  4.1861e-02,  2.2768e-03]],\n",
       "\n",
       "         [[ 3.0632e-02,  2.5770e-02, -5.4603e-02, -3.1577e-02, -2.2342e-02],\n",
       "          [-1.8721e-02, -2.8772e-02,  4.8078e-02,  1.6106e-02, -3.0107e-02],\n",
       "          [ 2.8391e-02,  5.0482e-02, -1.5329e-03, -3.9787e-02, -1.8074e-02],\n",
       "          [ 4.4761e-02,  2.5352e-02, -2.8008e-02,  1.0093e-03, -2.0740e-02],\n",
       "          [ 3.1101e-02,  1.9249e-02,  1.8912e-02, -2.4295e-02,  1.9123e-02]],\n",
       "\n",
       "         [[ 1.5492e-02,  6.0881e-02,  7.6875e-02, -2.1948e-02,  1.5786e-02],\n",
       "          [-2.7598e-02,  7.4663e-02, -2.3874e-02, -2.6313e-02, -3.0440e-02],\n",
       "          [ 1.2605e-02,  2.2137e-02,  2.2938e-02, -1.2580e-02,  6.5202e-03],\n",
       "          [-3.1264e-02, -1.8365e-03,  1.9147e-02, -3.7121e-02,  1.1511e-02],\n",
       "          [ 3.9694e-02,  1.9520e-02,  5.5543e-03,  7.8130e-03,  5.2209e-02]]]],\n",
       "       device='cuda:0', requires_grad=True)"
      ]
     },
     "execution_count": 160,
     "metadata": {},
     "output_type": "execute_result"
    }
   ],
   "source": [
    "model.conv2.weight"
   ]
  },
  {
   "cell_type": "markdown",
   "metadata": {
    "id": "ZJcX_UQYlSUo"
   },
   "source": [
    "## Test Quant Aware "
   ]
  },
  {
   "cell_type": "code",
   "execution_count": 161,
   "metadata": {
    "colab": {
     "base_uri": "https://localhost:8080/",
     "height": 54
    },
    "id": "DxmD9WV_l2q2",
    "outputId": "60291599-12fe-4902-eadd-8e23f0fc2bdb"
   },
   "outputs": [
    {
     "name": "stdout",
     "output_type": "stream",
     "text": [
      "{'conv1': {'max': 2.821486711502075, 'min': -0.4242129623889923, 'total': 5475, 'ema_min': -0.4242129623889923, 'ema_max': 2.8214872927038193}, 'conv2': {'max': 10.215150833129883, 'min': 0.0, 'total': 5475, 'ema_min': 0.0, 'ema_max': 7.78837279581953}, 'fc1': {'max': 15.80428409576416, 'min': 0.0, 'total': 5475, 'ema_min': 0.0, 'ema_max': 10.411202696472772}, 'fc2': {'max': 14.750638961791992, 'min': 0.0, 'total': 5475, 'ema_min': 0.0, 'ema_max': 7.392136811916351}, 'out': {'max': 24.500396728515625, 'min': -0.19464705884456635, 'total': 5475, 'ema_min': -7.922376456285525, 'ema_max': 12.749624241451551}}\n"
     ]
    }
   ],
   "source": [
    "print(old_stats)"
   ]
  },
  {
   "cell_type": "code",
   "execution_count": 182,
   "metadata": {
    "id": "Sj756_3-lKYy"
   },
   "outputs": [],
   "source": [
    "import copy\n",
    "q_model = copy.deepcopy(model)"
   ]
  },
  {
   "cell_type": "code",
   "execution_count": 183,
   "metadata": {
    "colab": {
     "base_uri": "https://localhost:8080/",
     "height": 68
    },
    "id": "1eQC5VimyZF-",
    "outputId": "f5fa06bc-82d8-4cb3-cc14-1049bf9826b9"
   },
   "outputs": [
    {
     "name": "stdout",
     "output_type": "stream",
     "text": [
      "\n",
      "Test set: Average loss: 0.1997, Accuracy: 9102/10000 (91%)\n",
      "\n"
     ]
    }
   ],
   "source": [
    "testQuant(q_model, test_loader, quant=True, stats=old_stats, sym=False, num_bits=2)"
   ]
  }
 ],
 "metadata": {
  "accelerator": "GPU",
  "colab": {
   "collapsed_sections": [
    "9QXsrr6Mp5e_",
    "1EWDw3bip8Ie",
    "vFM8UV9CreIX",
    "xXkTAJ9ws1Y6",
    "OgkWg605tE1y",
    "OBt0WDzyujnk",
    "xC96eesMqYo-",
    "mszPTrYOluym",
    "VTHK-wAWV57B"
   ],
   "include_colab_link": true,
   "name": "quantAwareTrain.ipynb",
   "provenance": []
  },
  "kernelspec": {
   "display_name": "Python 3",
   "language": "python",
   "name": "python3"
  },
  "language_info": {
   "codemirror_mode": {
    "name": "ipython",
    "version": 3
   },
   "file_extension": ".py",
   "mimetype": "text/x-python",
   "name": "python",
   "nbconvert_exporter": "python",
   "pygments_lexer": "ipython3",
   "version": "3.8.8"
  }
 },
 "nbformat": 4,
 "nbformat_minor": 1
}
